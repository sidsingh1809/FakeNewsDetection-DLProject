{
  "nbformat": 4,
  "nbformat_minor": 0,
  "metadata": {
    "colab": {
      "provenance": [],
      "gpuType": "T4"
    },
    "kernelspec": {
      "name": "python3",
      "display_name": "Python 3"
    },
    "language_info": {
      "name": "python"
    },
    "accelerator": "GPU",
    "gpuClass": "standard"
  },
  "cells": [
    {
      "cell_type": "markdown",
      "source": [
        "## Loading Data\n"
      ],
      "metadata": {
        "id": "LdEztjTiRE7q"
      }
    },
    {
      "cell_type": "code",
      "execution_count": null,
      "metadata": {
        "colab": {
          "base_uri": "https://localhost:8080/"
        },
        "id": "hwC6I_BA2guu",
        "outputId": "fa7364f6-64d4-4bf4-c1c8-8f2f4a33a844"
      },
      "outputs": [
        {
          "output_type": "stream",
          "name": "stdout",
          "text": [
            "Mounted at /content/drive\n"
          ]
        }
      ],
      "source": [
        "from google.colab import drive  # Import the necessary module for mounting Google Drive\n",
        "drive.mount('/content/drive')  # Mount Google Drive to the specified directory '/content/drive'"
      ]
    },
    {
      "cell_type": "code",
      "source": [
        "# Load the autoreload extension\n",
        "%load_ext autoreload\n",
        "# Set autoreload mode to 2\n",
        "%autoreload 2"
      ],
      "metadata": {
        "id": "mq1xtOT42lQ2"
      },
      "execution_count": null,
      "outputs": []
    },
    {
      "cell_type": "code",
      "source": [
        "import numpy as np\n",
        "import pandas as pd\n",
        "from collections import defaultdict\n",
        "import re\n",
        "import matplotlib.pyplot as plt\n",
        "import seaborn as sns"
      ],
      "metadata": {
        "id": "7FrV4VF_2mre"
      },
      "execution_count": null,
      "outputs": []
    },
    {
      "cell_type": "markdown",
      "source": [
        "## Data Preparation"
      ],
      "metadata": {
        "id": "OogSOwyNRD-A"
      }
    },
    {
      "cell_type": "code",
      "source": [
        "# Define the file paths for the train, test, and validation datasets\n",
        "train_path = '/content/drive/MyDrive/Deep learning Final Project Notebooks/data/train.tsv'\n",
        "test_path = '/content/drive/MyDrive/Deep learning Final Project Notebooks/data/test.tsv'\n",
        "val_path = '/content/drive/MyDrive/Deep learning Final Project Notebooks/data/valid.tsv'\n",
        "\n",
        "# Read the train dataset using pandas\n",
        "train_df = pd.read_csv(train_path, sep=\"\\t\", header=None)\n",
        "\n",
        "# Read the test dataset using pandas\n",
        "test_df = pd.read_csv(test_path, sep=\"\\t\", header=None)\n",
        "\n",
        "# Read the validation dataset using pandas\n",
        "val_df = pd.read_csv(val_path, sep=\"\\t\", header=None)\n"
      ],
      "metadata": {
        "id": "WhJsgcZg2stH"
      },
      "execution_count": null,
      "outputs": []
    },
    {
      "cell_type": "code",
      "source": [
        "display(train_df)"
      ],
      "metadata": {
        "colab": {
          "base_uri": "https://localhost:8080/",
          "height": 815
        },
        "id": "UcaiKGTr2ubx",
        "outputId": "89fc2480-1032-4318-aaa5-a20e14697042"
      },
      "execution_count": null,
      "outputs": [
        {
          "output_type": "display_data",
          "data": {
            "text/plain": [
              "               0            1   \\\n",
              "0       2635.json        false   \n",
              "1      10540.json    half-true   \n",
              "2        324.json  mostly-true   \n",
              "3       1123.json        false   \n",
              "4       9028.json    half-true   \n",
              "...           ...          ...   \n",
              "10235   5473.json  mostly-true   \n",
              "10236   3408.json  mostly-true   \n",
              "10237   3959.json    half-true   \n",
              "10238   2253.json        false   \n",
              "10239   1155.json   pants-fire   \n",
              "\n",
              "                                                      2   \\\n",
              "0      Says the Annies List political group supports ...   \n",
              "1      When did the decline of coal start? It started...   \n",
              "2      Hillary Clinton agrees with John McCain \"by vo...   \n",
              "3      Health care reform legislation is likely to ma...   \n",
              "4      The economic turnaround started at the end of ...   \n",
              "...                                                  ...   \n",
              "10235  There are a larger number of shark attacks in ...   \n",
              "10236  Democrats have now become the party of the [At...   \n",
              "10237  Says an alternative to Social Security that op...   \n",
              "10238  On lifting the U.S. Cuban embargo and allowing...   \n",
              "10239  The Department of Veterans Affairs has a manua...   \n",
              "\n",
              "                                       3               4   \\\n",
              "0                                abortion    dwayne-bohac   \n",
              "1      energy,history,job-accomplishments  scott-surovell   \n",
              "2                          foreign-policy    barack-obama   \n",
              "3                             health-care    blog-posting   \n",
              "4                            economy,jobs   charlie-crist   \n",
              "...                                   ...             ...   \n",
              "10235                   animals,elections    aclu-florida   \n",
              "10236                           elections     alan-powell   \n",
              "10237          retirement,social-security     herman-cain   \n",
              "10238              florida,foreign-policy     jeff-greene   \n",
              "10239                health-care,veterans  michael-steele   \n",
              "\n",
              "                                                  5         6           7   \\\n",
              "0                               State representative     Texas  republican   \n",
              "1                                     State delegate  Virginia    democrat   \n",
              "2                                          President  Illinois    democrat   \n",
              "3                                                NaN       NaN        none   \n",
              "4                                                NaN   Florida    democrat   \n",
              "...                                              ...       ...         ...   \n",
              "10235                                            NaN   Florida        none   \n",
              "10236                                            NaN   Georgia  republican   \n",
              "10237                                            NaN   Georgia  republican   \n",
              "10238                                            NaN   Florida    democrat   \n",
              "10239  chairman of the Republican National Committee  Maryland  republican   \n",
              "\n",
              "         8     9      10     11    12  \\\n",
              "0       0.0   1.0    0.0    0.0   0.0   \n",
              "1       0.0   0.0    1.0    1.0   0.0   \n",
              "2      70.0  71.0  160.0  163.0   9.0   \n",
              "3       7.0  19.0    3.0    5.0  44.0   \n",
              "4      15.0   9.0   20.0   19.0   2.0   \n",
              "...     ...   ...    ...    ...   ...   \n",
              "10235   0.0   1.0    1.0    1.0   0.0   \n",
              "10236   0.0   0.0    0.0    1.0   0.0   \n",
              "10237   4.0  11.0    5.0    3.0   3.0   \n",
              "10238   3.0   1.0    3.0    0.0   0.0   \n",
              "10239   0.0   1.0    1.0    0.0   2.0   \n",
              "\n",
              "                                                      13  \n",
              "0                                               a mailer  \n",
              "1                                        a floor speech.  \n",
              "2                                                 Denver  \n",
              "3                                         a news release  \n",
              "4                                    an interview on CNN  \n",
              "...                                                  ...  \n",
              "10235                  interview on \"The Colbert Report\"  \n",
              "10236                                       an interview  \n",
              "10237                   a Republican presidential debate  \n",
              "10238  a televised debate on Miami's WPLG-10 against ...  \n",
              "10239                               a Fox News interview  \n",
              "\n",
              "[10240 rows x 14 columns]"
            ],
            "text/html": [
              "\n",
              "  <div id=\"df-a7106b38-5543-4b6f-900c-67f07ddc4ac0\">\n",
              "    <div class=\"colab-df-container\">\n",
              "      <div>\n",
              "<style scoped>\n",
              "    .dataframe tbody tr th:only-of-type {\n",
              "        vertical-align: middle;\n",
              "    }\n",
              "\n",
              "    .dataframe tbody tr th {\n",
              "        vertical-align: top;\n",
              "    }\n",
              "\n",
              "    .dataframe thead th {\n",
              "        text-align: right;\n",
              "    }\n",
              "</style>\n",
              "<table border=\"1\" class=\"dataframe\">\n",
              "  <thead>\n",
              "    <tr style=\"text-align: right;\">\n",
              "      <th></th>\n",
              "      <th>0</th>\n",
              "      <th>1</th>\n",
              "      <th>2</th>\n",
              "      <th>3</th>\n",
              "      <th>4</th>\n",
              "      <th>5</th>\n",
              "      <th>6</th>\n",
              "      <th>7</th>\n",
              "      <th>8</th>\n",
              "      <th>9</th>\n",
              "      <th>10</th>\n",
              "      <th>11</th>\n",
              "      <th>12</th>\n",
              "      <th>13</th>\n",
              "    </tr>\n",
              "  </thead>\n",
              "  <tbody>\n",
              "    <tr>\n",
              "      <th>0</th>\n",
              "      <td>2635.json</td>\n",
              "      <td>false</td>\n",
              "      <td>Says the Annies List political group supports ...</td>\n",
              "      <td>abortion</td>\n",
              "      <td>dwayne-bohac</td>\n",
              "      <td>State representative</td>\n",
              "      <td>Texas</td>\n",
              "      <td>republican</td>\n",
              "      <td>0.0</td>\n",
              "      <td>1.0</td>\n",
              "      <td>0.0</td>\n",
              "      <td>0.0</td>\n",
              "      <td>0.0</td>\n",
              "      <td>a mailer</td>\n",
              "    </tr>\n",
              "    <tr>\n",
              "      <th>1</th>\n",
              "      <td>10540.json</td>\n",
              "      <td>half-true</td>\n",
              "      <td>When did the decline of coal start? It started...</td>\n",
              "      <td>energy,history,job-accomplishments</td>\n",
              "      <td>scott-surovell</td>\n",
              "      <td>State delegate</td>\n",
              "      <td>Virginia</td>\n",
              "      <td>democrat</td>\n",
              "      <td>0.0</td>\n",
              "      <td>0.0</td>\n",
              "      <td>1.0</td>\n",
              "      <td>1.0</td>\n",
              "      <td>0.0</td>\n",
              "      <td>a floor speech.</td>\n",
              "    </tr>\n",
              "    <tr>\n",
              "      <th>2</th>\n",
              "      <td>324.json</td>\n",
              "      <td>mostly-true</td>\n",
              "      <td>Hillary Clinton agrees with John McCain \"by vo...</td>\n",
              "      <td>foreign-policy</td>\n",
              "      <td>barack-obama</td>\n",
              "      <td>President</td>\n",
              "      <td>Illinois</td>\n",
              "      <td>democrat</td>\n",
              "      <td>70.0</td>\n",
              "      <td>71.0</td>\n",
              "      <td>160.0</td>\n",
              "      <td>163.0</td>\n",
              "      <td>9.0</td>\n",
              "      <td>Denver</td>\n",
              "    </tr>\n",
              "    <tr>\n",
              "      <th>3</th>\n",
              "      <td>1123.json</td>\n",
              "      <td>false</td>\n",
              "      <td>Health care reform legislation is likely to ma...</td>\n",
              "      <td>health-care</td>\n",
              "      <td>blog-posting</td>\n",
              "      <td>NaN</td>\n",
              "      <td>NaN</td>\n",
              "      <td>none</td>\n",
              "      <td>7.0</td>\n",
              "      <td>19.0</td>\n",
              "      <td>3.0</td>\n",
              "      <td>5.0</td>\n",
              "      <td>44.0</td>\n",
              "      <td>a news release</td>\n",
              "    </tr>\n",
              "    <tr>\n",
              "      <th>4</th>\n",
              "      <td>9028.json</td>\n",
              "      <td>half-true</td>\n",
              "      <td>The economic turnaround started at the end of ...</td>\n",
              "      <td>economy,jobs</td>\n",
              "      <td>charlie-crist</td>\n",
              "      <td>NaN</td>\n",
              "      <td>Florida</td>\n",
              "      <td>democrat</td>\n",
              "      <td>15.0</td>\n",
              "      <td>9.0</td>\n",
              "      <td>20.0</td>\n",
              "      <td>19.0</td>\n",
              "      <td>2.0</td>\n",
              "      <td>an interview on CNN</td>\n",
              "    </tr>\n",
              "    <tr>\n",
              "      <th>...</th>\n",
              "      <td>...</td>\n",
              "      <td>...</td>\n",
              "      <td>...</td>\n",
              "      <td>...</td>\n",
              "      <td>...</td>\n",
              "      <td>...</td>\n",
              "      <td>...</td>\n",
              "      <td>...</td>\n",
              "      <td>...</td>\n",
              "      <td>...</td>\n",
              "      <td>...</td>\n",
              "      <td>...</td>\n",
              "      <td>...</td>\n",
              "      <td>...</td>\n",
              "    </tr>\n",
              "    <tr>\n",
              "      <th>10235</th>\n",
              "      <td>5473.json</td>\n",
              "      <td>mostly-true</td>\n",
              "      <td>There are a larger number of shark attacks in ...</td>\n",
              "      <td>animals,elections</td>\n",
              "      <td>aclu-florida</td>\n",
              "      <td>NaN</td>\n",
              "      <td>Florida</td>\n",
              "      <td>none</td>\n",
              "      <td>0.0</td>\n",
              "      <td>1.0</td>\n",
              "      <td>1.0</td>\n",
              "      <td>1.0</td>\n",
              "      <td>0.0</td>\n",
              "      <td>interview on \"The Colbert Report\"</td>\n",
              "    </tr>\n",
              "    <tr>\n",
              "      <th>10236</th>\n",
              "      <td>3408.json</td>\n",
              "      <td>mostly-true</td>\n",
              "      <td>Democrats have now become the party of the [At...</td>\n",
              "      <td>elections</td>\n",
              "      <td>alan-powell</td>\n",
              "      <td>NaN</td>\n",
              "      <td>Georgia</td>\n",
              "      <td>republican</td>\n",
              "      <td>0.0</td>\n",
              "      <td>0.0</td>\n",
              "      <td>0.0</td>\n",
              "      <td>1.0</td>\n",
              "      <td>0.0</td>\n",
              "      <td>an interview</td>\n",
              "    </tr>\n",
              "    <tr>\n",
              "      <th>10237</th>\n",
              "      <td>3959.json</td>\n",
              "      <td>half-true</td>\n",
              "      <td>Says an alternative to Social Security that op...</td>\n",
              "      <td>retirement,social-security</td>\n",
              "      <td>herman-cain</td>\n",
              "      <td>NaN</td>\n",
              "      <td>Georgia</td>\n",
              "      <td>republican</td>\n",
              "      <td>4.0</td>\n",
              "      <td>11.0</td>\n",
              "      <td>5.0</td>\n",
              "      <td>3.0</td>\n",
              "      <td>3.0</td>\n",
              "      <td>a Republican presidential debate</td>\n",
              "    </tr>\n",
              "    <tr>\n",
              "      <th>10238</th>\n",
              "      <td>2253.json</td>\n",
              "      <td>false</td>\n",
              "      <td>On lifting the U.S. Cuban embargo and allowing...</td>\n",
              "      <td>florida,foreign-policy</td>\n",
              "      <td>jeff-greene</td>\n",
              "      <td>NaN</td>\n",
              "      <td>Florida</td>\n",
              "      <td>democrat</td>\n",
              "      <td>3.0</td>\n",
              "      <td>1.0</td>\n",
              "      <td>3.0</td>\n",
              "      <td>0.0</td>\n",
              "      <td>0.0</td>\n",
              "      <td>a televised debate on Miami's WPLG-10 against ...</td>\n",
              "    </tr>\n",
              "    <tr>\n",
              "      <th>10239</th>\n",
              "      <td>1155.json</td>\n",
              "      <td>pants-fire</td>\n",
              "      <td>The Department of Veterans Affairs has a manua...</td>\n",
              "      <td>health-care,veterans</td>\n",
              "      <td>michael-steele</td>\n",
              "      <td>chairman of the Republican National Committee</td>\n",
              "      <td>Maryland</td>\n",
              "      <td>republican</td>\n",
              "      <td>0.0</td>\n",
              "      <td>1.0</td>\n",
              "      <td>1.0</td>\n",
              "      <td>0.0</td>\n",
              "      <td>2.0</td>\n",
              "      <td>a Fox News interview</td>\n",
              "    </tr>\n",
              "  </tbody>\n",
              "</table>\n",
              "<p>10240 rows × 14 columns</p>\n",
              "</div>\n",
              "      <button class=\"colab-df-convert\" onclick=\"convertToInteractive('df-a7106b38-5543-4b6f-900c-67f07ddc4ac0')\"\n",
              "              title=\"Convert this dataframe to an interactive table.\"\n",
              "              style=\"display:none;\">\n",
              "        \n",
              "  <svg xmlns=\"http://www.w3.org/2000/svg\" height=\"24px\"viewBox=\"0 0 24 24\"\n",
              "       width=\"24px\">\n",
              "    <path d=\"M0 0h24v24H0V0z\" fill=\"none\"/>\n",
              "    <path d=\"M18.56 5.44l.94 2.06.94-2.06 2.06-.94-2.06-.94-.94-2.06-.94 2.06-2.06.94zm-11 1L8.5 8.5l.94-2.06 2.06-.94-2.06-.94L8.5 2.5l-.94 2.06-2.06.94zm10 10l.94 2.06.94-2.06 2.06-.94-2.06-.94-.94-2.06-.94 2.06-2.06.94z\"/><path d=\"M17.41 7.96l-1.37-1.37c-.4-.4-.92-.59-1.43-.59-.52 0-1.04.2-1.43.59L10.3 9.45l-7.72 7.72c-.78.78-.78 2.05 0 2.83L4 21.41c.39.39.9.59 1.41.59.51 0 1.02-.2 1.41-.59l7.78-7.78 2.81-2.81c.8-.78.8-2.07 0-2.86zM5.41 20L4 18.59l7.72-7.72 1.47 1.35L5.41 20z\"/>\n",
              "  </svg>\n",
              "      </button>\n",
              "      \n",
              "  <style>\n",
              "    .colab-df-container {\n",
              "      display:flex;\n",
              "      flex-wrap:wrap;\n",
              "      gap: 12px;\n",
              "    }\n",
              "\n",
              "    .colab-df-convert {\n",
              "      background-color: #E8F0FE;\n",
              "      border: none;\n",
              "      border-radius: 50%;\n",
              "      cursor: pointer;\n",
              "      display: none;\n",
              "      fill: #1967D2;\n",
              "      height: 32px;\n",
              "      padding: 0 0 0 0;\n",
              "      width: 32px;\n",
              "    }\n",
              "\n",
              "    .colab-df-convert:hover {\n",
              "      background-color: #E2EBFA;\n",
              "      box-shadow: 0px 1px 2px rgba(60, 64, 67, 0.3), 0px 1px 3px 1px rgba(60, 64, 67, 0.15);\n",
              "      fill: #174EA6;\n",
              "    }\n",
              "\n",
              "    [theme=dark] .colab-df-convert {\n",
              "      background-color: #3B4455;\n",
              "      fill: #D2E3FC;\n",
              "    }\n",
              "\n",
              "    [theme=dark] .colab-df-convert:hover {\n",
              "      background-color: #434B5C;\n",
              "      box-shadow: 0px 1px 3px 1px rgba(0, 0, 0, 0.15);\n",
              "      filter: drop-shadow(0px 1px 2px rgba(0, 0, 0, 0.3));\n",
              "      fill: #FFFFFF;\n",
              "    }\n",
              "  </style>\n",
              "\n",
              "      <script>\n",
              "        const buttonEl =\n",
              "          document.querySelector('#df-a7106b38-5543-4b6f-900c-67f07ddc4ac0 button.colab-df-convert');\n",
              "        buttonEl.style.display =\n",
              "          google.colab.kernel.accessAllowed ? 'block' : 'none';\n",
              "\n",
              "        async function convertToInteractive(key) {\n",
              "          const element = document.querySelector('#df-a7106b38-5543-4b6f-900c-67f07ddc4ac0');\n",
              "          const dataTable =\n",
              "            await google.colab.kernel.invokeFunction('convertToInteractive',\n",
              "                                                     [key], {});\n",
              "          if (!dataTable) return;\n",
              "\n",
              "          const docLinkHtml = 'Like what you see? Visit the ' +\n",
              "            '<a target=\"_blank\" href=https://colab.research.google.com/notebooks/data_table.ipynb>data table notebook</a>'\n",
              "            + ' to learn more about interactive tables.';\n",
              "          element.innerHTML = '';\n",
              "          dataTable['output_type'] = 'display_data';\n",
              "          await google.colab.output.renderOutput(dataTable, element);\n",
              "          const docLink = document.createElement('div');\n",
              "          docLink.innerHTML = docLinkHtml;\n",
              "          element.appendChild(docLink);\n",
              "        }\n",
              "      </script>\n",
              "    </div>\n",
              "  </div>\n",
              "  "
            ]
          },
          "metadata": {}
        }
      ]
    },
    {
      "cell_type": "code",
      "source": [
        "display(test_df)"
      ],
      "metadata": {
        "colab": {
          "base_uri": "https://localhost:8080/",
          "height": 954
        },
        "id": "A82qsRZy2uzi",
        "outputId": "94ee965c-1a41-4caf-de88-416d9c43c217"
      },
      "execution_count": null,
      "outputs": [
        {
          "output_type": "display_data",
          "data": {
            "text/plain": [
              "              0            1   \\\n",
              "0     11972.json         true   \n",
              "1     11685.json        false   \n",
              "2     11096.json        false   \n",
              "3      5209.json    half-true   \n",
              "4      9524.json   pants-fire   \n",
              "...          ...          ...   \n",
              "1262   7334.json    half-true   \n",
              "1263   9788.json  barely-true   \n",
              "1264  10710.json  barely-true   \n",
              "1265   3186.json  barely-true   \n",
              "1266   6743.json        false   \n",
              "\n",
              "                                                     2   \\\n",
              "0     Building a wall on the U.S.-Mexico border will...   \n",
              "1     Wisconsin is on pace to double the number of l...   \n",
              "2     Says John McCain has done nothing to help the ...   \n",
              "3     Suzanne Bonamici supports a plan that will cut...   \n",
              "4     When asked by a reporter whether hes at the ce...   \n",
              "...                                                 ...   \n",
              "1262  Says his budget provides the highest state fun...   \n",
              "1263                    Ive been here almost every day.   \n",
              "1264  In the early 1980s, Sen. Edward Kennedy secret...   \n",
              "1265  Says an EPA permit languished under Strickland...   \n",
              "1266  Says the governor is going around the state ta...   \n",
              "\n",
              "                                                     3   \\\n",
              "0                                           immigration   \n",
              "1                                                  jobs   \n",
              "2                       military,veterans,voting-record   \n",
              "3     medicare,message-machine-2012,campaign-adverti...   \n",
              "4     campaign-finance,legal-issues,campaign-adverti...   \n",
              "...                                                 ...   \n",
              "1262                                          education   \n",
              "1263                civil-rights,crime,criminal-justice   \n",
              "1264     bipartisanship,congress,foreign-policy,history   \n",
              "1265                  environment,government-efficiency   \n",
              "1266                  state-budget,state-finances,taxes   \n",
              "\n",
              "                                    4   \\\n",
              "0                           rick-perry   \n",
              "1                    katrina-shankland   \n",
              "2                         donald-trump   \n",
              "3                        rob-cornilles   \n",
              "4     state-democratic-party-wisconsin   \n",
              "...                                ...   \n",
              "1262                        rick-scott   \n",
              "1263                         jay-nixon   \n",
              "1264             mackubin-thomas-owens   \n",
              "1265                       john-kasich   \n",
              "1266                  john-burzichelli   \n",
              "\n",
              "                                                    5             6   \\\n",
              "0                                             Governor         Texas   \n",
              "1                                 State representative     Wisconsin   \n",
              "2                                      President-Elect      New York   \n",
              "3                                           consultant        Oregon   \n",
              "4                                                  NaN     Wisconsin   \n",
              "...                                                ...           ...   \n",
              "1262                                          Governor       Florida   \n",
              "1263                                          Governor      Missouri   \n",
              "1264  senior fellow, Foreign Policy Research Institute  Rhode Island   \n",
              "1265              Governor of Ohio as of Jan. 10, 2011          Ohio   \n",
              "1266                                               NaN           NaN   \n",
              "\n",
              "              7   8    9   10  11  12                                      13  \n",
              "0     republican  30   30  42  23  18                         Radio interview  \n",
              "1       democrat   2    1   0   0   0                       a news conference  \n",
              "2     republican  63  114  51  37  61            comments on ABC's This Week.  \n",
              "3     republican   1    1   3   1   1                            a radio show  \n",
              "4       democrat   5    7   2   2   7                             a web video  \n",
              "...          ...  ..  ...  ..  ..  ..                                     ...  \n",
              "1262  republican  28   23  38  34   7                       a news conference  \n",
              "1263    democrat   2    0   0   1   0                    on ABC's \"This Week\"  \n",
              "1264   columnist   1    0   0   0   0  a commentary in The Providence Journal  \n",
              "1265  republican   9    8  10  18   3                       a news conference  \n",
              "1266    democrat   1    1   0   0   0               an interview with NJToday  \n",
              "\n",
              "[1267 rows x 14 columns]"
            ],
            "text/html": [
              "\n",
              "  <div id=\"df-6ce02480-7765-40c9-95a8-20bf02c7c5ae\">\n",
              "    <div class=\"colab-df-container\">\n",
              "      <div>\n",
              "<style scoped>\n",
              "    .dataframe tbody tr th:only-of-type {\n",
              "        vertical-align: middle;\n",
              "    }\n",
              "\n",
              "    .dataframe tbody tr th {\n",
              "        vertical-align: top;\n",
              "    }\n",
              "\n",
              "    .dataframe thead th {\n",
              "        text-align: right;\n",
              "    }\n",
              "</style>\n",
              "<table border=\"1\" class=\"dataframe\">\n",
              "  <thead>\n",
              "    <tr style=\"text-align: right;\">\n",
              "      <th></th>\n",
              "      <th>0</th>\n",
              "      <th>1</th>\n",
              "      <th>2</th>\n",
              "      <th>3</th>\n",
              "      <th>4</th>\n",
              "      <th>5</th>\n",
              "      <th>6</th>\n",
              "      <th>7</th>\n",
              "      <th>8</th>\n",
              "      <th>9</th>\n",
              "      <th>10</th>\n",
              "      <th>11</th>\n",
              "      <th>12</th>\n",
              "      <th>13</th>\n",
              "    </tr>\n",
              "  </thead>\n",
              "  <tbody>\n",
              "    <tr>\n",
              "      <th>0</th>\n",
              "      <td>11972.json</td>\n",
              "      <td>true</td>\n",
              "      <td>Building a wall on the U.S.-Mexico border will...</td>\n",
              "      <td>immigration</td>\n",
              "      <td>rick-perry</td>\n",
              "      <td>Governor</td>\n",
              "      <td>Texas</td>\n",
              "      <td>republican</td>\n",
              "      <td>30</td>\n",
              "      <td>30</td>\n",
              "      <td>42</td>\n",
              "      <td>23</td>\n",
              "      <td>18</td>\n",
              "      <td>Radio interview</td>\n",
              "    </tr>\n",
              "    <tr>\n",
              "      <th>1</th>\n",
              "      <td>11685.json</td>\n",
              "      <td>false</td>\n",
              "      <td>Wisconsin is on pace to double the number of l...</td>\n",
              "      <td>jobs</td>\n",
              "      <td>katrina-shankland</td>\n",
              "      <td>State representative</td>\n",
              "      <td>Wisconsin</td>\n",
              "      <td>democrat</td>\n",
              "      <td>2</td>\n",
              "      <td>1</td>\n",
              "      <td>0</td>\n",
              "      <td>0</td>\n",
              "      <td>0</td>\n",
              "      <td>a news conference</td>\n",
              "    </tr>\n",
              "    <tr>\n",
              "      <th>2</th>\n",
              "      <td>11096.json</td>\n",
              "      <td>false</td>\n",
              "      <td>Says John McCain has done nothing to help the ...</td>\n",
              "      <td>military,veterans,voting-record</td>\n",
              "      <td>donald-trump</td>\n",
              "      <td>President-Elect</td>\n",
              "      <td>New York</td>\n",
              "      <td>republican</td>\n",
              "      <td>63</td>\n",
              "      <td>114</td>\n",
              "      <td>51</td>\n",
              "      <td>37</td>\n",
              "      <td>61</td>\n",
              "      <td>comments on ABC's This Week.</td>\n",
              "    </tr>\n",
              "    <tr>\n",
              "      <th>3</th>\n",
              "      <td>5209.json</td>\n",
              "      <td>half-true</td>\n",
              "      <td>Suzanne Bonamici supports a plan that will cut...</td>\n",
              "      <td>medicare,message-machine-2012,campaign-adverti...</td>\n",
              "      <td>rob-cornilles</td>\n",
              "      <td>consultant</td>\n",
              "      <td>Oregon</td>\n",
              "      <td>republican</td>\n",
              "      <td>1</td>\n",
              "      <td>1</td>\n",
              "      <td>3</td>\n",
              "      <td>1</td>\n",
              "      <td>1</td>\n",
              "      <td>a radio show</td>\n",
              "    </tr>\n",
              "    <tr>\n",
              "      <th>4</th>\n",
              "      <td>9524.json</td>\n",
              "      <td>pants-fire</td>\n",
              "      <td>When asked by a reporter whether hes at the ce...</td>\n",
              "      <td>campaign-finance,legal-issues,campaign-adverti...</td>\n",
              "      <td>state-democratic-party-wisconsin</td>\n",
              "      <td>NaN</td>\n",
              "      <td>Wisconsin</td>\n",
              "      <td>democrat</td>\n",
              "      <td>5</td>\n",
              "      <td>7</td>\n",
              "      <td>2</td>\n",
              "      <td>2</td>\n",
              "      <td>7</td>\n",
              "      <td>a web video</td>\n",
              "    </tr>\n",
              "    <tr>\n",
              "      <th>...</th>\n",
              "      <td>...</td>\n",
              "      <td>...</td>\n",
              "      <td>...</td>\n",
              "      <td>...</td>\n",
              "      <td>...</td>\n",
              "      <td>...</td>\n",
              "      <td>...</td>\n",
              "      <td>...</td>\n",
              "      <td>...</td>\n",
              "      <td>...</td>\n",
              "      <td>...</td>\n",
              "      <td>...</td>\n",
              "      <td>...</td>\n",
              "      <td>...</td>\n",
              "    </tr>\n",
              "    <tr>\n",
              "      <th>1262</th>\n",
              "      <td>7334.json</td>\n",
              "      <td>half-true</td>\n",
              "      <td>Says his budget provides the highest state fun...</td>\n",
              "      <td>education</td>\n",
              "      <td>rick-scott</td>\n",
              "      <td>Governor</td>\n",
              "      <td>Florida</td>\n",
              "      <td>republican</td>\n",
              "      <td>28</td>\n",
              "      <td>23</td>\n",
              "      <td>38</td>\n",
              "      <td>34</td>\n",
              "      <td>7</td>\n",
              "      <td>a news conference</td>\n",
              "    </tr>\n",
              "    <tr>\n",
              "      <th>1263</th>\n",
              "      <td>9788.json</td>\n",
              "      <td>barely-true</td>\n",
              "      <td>Ive been here almost every day.</td>\n",
              "      <td>civil-rights,crime,criminal-justice</td>\n",
              "      <td>jay-nixon</td>\n",
              "      <td>Governor</td>\n",
              "      <td>Missouri</td>\n",
              "      <td>democrat</td>\n",
              "      <td>2</td>\n",
              "      <td>0</td>\n",
              "      <td>0</td>\n",
              "      <td>1</td>\n",
              "      <td>0</td>\n",
              "      <td>on ABC's \"This Week\"</td>\n",
              "    </tr>\n",
              "    <tr>\n",
              "      <th>1264</th>\n",
              "      <td>10710.json</td>\n",
              "      <td>barely-true</td>\n",
              "      <td>In the early 1980s, Sen. Edward Kennedy secret...</td>\n",
              "      <td>bipartisanship,congress,foreign-policy,history</td>\n",
              "      <td>mackubin-thomas-owens</td>\n",
              "      <td>senior fellow, Foreign Policy Research Institute</td>\n",
              "      <td>Rhode Island</td>\n",
              "      <td>columnist</td>\n",
              "      <td>1</td>\n",
              "      <td>0</td>\n",
              "      <td>0</td>\n",
              "      <td>0</td>\n",
              "      <td>0</td>\n",
              "      <td>a commentary in The Providence Journal</td>\n",
              "    </tr>\n",
              "    <tr>\n",
              "      <th>1265</th>\n",
              "      <td>3186.json</td>\n",
              "      <td>barely-true</td>\n",
              "      <td>Says an EPA permit languished under Strickland...</td>\n",
              "      <td>environment,government-efficiency</td>\n",
              "      <td>john-kasich</td>\n",
              "      <td>Governor of Ohio as of Jan. 10, 2011</td>\n",
              "      <td>Ohio</td>\n",
              "      <td>republican</td>\n",
              "      <td>9</td>\n",
              "      <td>8</td>\n",
              "      <td>10</td>\n",
              "      <td>18</td>\n",
              "      <td>3</td>\n",
              "      <td>a news conference</td>\n",
              "    </tr>\n",
              "    <tr>\n",
              "      <th>1266</th>\n",
              "      <td>6743.json</td>\n",
              "      <td>false</td>\n",
              "      <td>Says the governor is going around the state ta...</td>\n",
              "      <td>state-budget,state-finances,taxes</td>\n",
              "      <td>john-burzichelli</td>\n",
              "      <td>NaN</td>\n",
              "      <td>NaN</td>\n",
              "      <td>democrat</td>\n",
              "      <td>1</td>\n",
              "      <td>1</td>\n",
              "      <td>0</td>\n",
              "      <td>0</td>\n",
              "      <td>0</td>\n",
              "      <td>an interview with NJToday</td>\n",
              "    </tr>\n",
              "  </tbody>\n",
              "</table>\n",
              "<p>1267 rows × 14 columns</p>\n",
              "</div>\n",
              "      <button class=\"colab-df-convert\" onclick=\"convertToInteractive('df-6ce02480-7765-40c9-95a8-20bf02c7c5ae')\"\n",
              "              title=\"Convert this dataframe to an interactive table.\"\n",
              "              style=\"display:none;\">\n",
              "        \n",
              "  <svg xmlns=\"http://www.w3.org/2000/svg\" height=\"24px\"viewBox=\"0 0 24 24\"\n",
              "       width=\"24px\">\n",
              "    <path d=\"M0 0h24v24H0V0z\" fill=\"none\"/>\n",
              "    <path d=\"M18.56 5.44l.94 2.06.94-2.06 2.06-.94-2.06-.94-.94-2.06-.94 2.06-2.06.94zm-11 1L8.5 8.5l.94-2.06 2.06-.94-2.06-.94L8.5 2.5l-.94 2.06-2.06.94zm10 10l.94 2.06.94-2.06 2.06-.94-2.06-.94-.94-2.06-.94 2.06-2.06.94z\"/><path d=\"M17.41 7.96l-1.37-1.37c-.4-.4-.92-.59-1.43-.59-.52 0-1.04.2-1.43.59L10.3 9.45l-7.72 7.72c-.78.78-.78 2.05 0 2.83L4 21.41c.39.39.9.59 1.41.59.51 0 1.02-.2 1.41-.59l7.78-7.78 2.81-2.81c.8-.78.8-2.07 0-2.86zM5.41 20L4 18.59l7.72-7.72 1.47 1.35L5.41 20z\"/>\n",
              "  </svg>\n",
              "      </button>\n",
              "      \n",
              "  <style>\n",
              "    .colab-df-container {\n",
              "      display:flex;\n",
              "      flex-wrap:wrap;\n",
              "      gap: 12px;\n",
              "    }\n",
              "\n",
              "    .colab-df-convert {\n",
              "      background-color: #E8F0FE;\n",
              "      border: none;\n",
              "      border-radius: 50%;\n",
              "      cursor: pointer;\n",
              "      display: none;\n",
              "      fill: #1967D2;\n",
              "      height: 32px;\n",
              "      padding: 0 0 0 0;\n",
              "      width: 32px;\n",
              "    }\n",
              "\n",
              "    .colab-df-convert:hover {\n",
              "      background-color: #E2EBFA;\n",
              "      box-shadow: 0px 1px 2px rgba(60, 64, 67, 0.3), 0px 1px 3px 1px rgba(60, 64, 67, 0.15);\n",
              "      fill: #174EA6;\n",
              "    }\n",
              "\n",
              "    [theme=dark] .colab-df-convert {\n",
              "      background-color: #3B4455;\n",
              "      fill: #D2E3FC;\n",
              "    }\n",
              "\n",
              "    [theme=dark] .colab-df-convert:hover {\n",
              "      background-color: #434B5C;\n",
              "      box-shadow: 0px 1px 3px 1px rgba(0, 0, 0, 0.15);\n",
              "      filter: drop-shadow(0px 1px 2px rgba(0, 0, 0, 0.3));\n",
              "      fill: #FFFFFF;\n",
              "    }\n",
              "  </style>\n",
              "\n",
              "      <script>\n",
              "        const buttonEl =\n",
              "          document.querySelector('#df-6ce02480-7765-40c9-95a8-20bf02c7c5ae button.colab-df-convert');\n",
              "        buttonEl.style.display =\n",
              "          google.colab.kernel.accessAllowed ? 'block' : 'none';\n",
              "\n",
              "        async function convertToInteractive(key) {\n",
              "          const element = document.querySelector('#df-6ce02480-7765-40c9-95a8-20bf02c7c5ae');\n",
              "          const dataTable =\n",
              "            await google.colab.kernel.invokeFunction('convertToInteractive',\n",
              "                                                     [key], {});\n",
              "          if (!dataTable) return;\n",
              "\n",
              "          const docLinkHtml = 'Like what you see? Visit the ' +\n",
              "            '<a target=\"_blank\" href=https://colab.research.google.com/notebooks/data_table.ipynb>data table notebook</a>'\n",
              "            + ' to learn more about interactive tables.';\n",
              "          element.innerHTML = '';\n",
              "          dataTable['output_type'] = 'display_data';\n",
              "          await google.colab.output.renderOutput(dataTable, element);\n",
              "          const docLink = document.createElement('div');\n",
              "          docLink.innerHTML = docLinkHtml;\n",
              "          element.appendChild(docLink);\n",
              "        }\n",
              "      </script>\n",
              "    </div>\n",
              "  </div>\n",
              "  "
            ]
          },
          "metadata": {}
        }
      ]
    },
    {
      "cell_type": "code",
      "source": [
        "display(val_df)"
      ],
      "metadata": {
        "colab": {
          "base_uri": "https://localhost:8080/",
          "height": 832
        },
        "id": "UP7jJd9R2u6h",
        "outputId": "a4657540-904a-4c87-aff4-eb74506de82d"
      },
      "execution_count": null,
      "outputs": [
        {
          "output_type": "display_data",
          "data": {
            "text/plain": [
              "              0            1   \\\n",
              "0     12134.json  barely-true   \n",
              "1       238.json   pants-fire   \n",
              "2      7891.json        false   \n",
              "3      8169.json    half-true   \n",
              "4       929.json    half-true   \n",
              "...          ...          ...   \n",
              "1279   3419.json    half-true   \n",
              "1280  12548.json  mostly-true   \n",
              "1281    401.json         true   \n",
              "1282   1055.json        false   \n",
              "1283   9117.json  barely-true   \n",
              "\n",
              "                                                     2   \\\n",
              "0     We have less Americans working now than in the...   \n",
              "1     When Obama was sworn into office, he DID NOT u...   \n",
              "2     Says Having organizations parading as being so...   \n",
              "3        Says nearly half of Oregons children are poor.   \n",
              "4     On attacks by Republicans that various program...   \n",
              "...                                                 ...   \n",
              "1279  For the first time in more than a decade, impo...   \n",
              "1280  Says Donald Trump has bankrupted his companies...   \n",
              "1281  John McCain and George Bush have \"absolutely n...   \n",
              "1282  A new poll shows 62 percent support the presid...   \n",
              "1283  No one claims the report vindicating New Jerse...   \n",
              "\n",
              "                                       3                        4   \\\n",
              "0                            economy,jobs           vicky-hartzler   \n",
              "1        obama-birth-certificate,religion              chain-email   \n",
              "2         campaign-finance,congress,taxes          earl-blumenauer   \n",
              "3                                 poverty          jim-francesconi   \n",
              "4                        economy,stimulus             barack-obama   \n",
              "...                                   ...                      ...   \n",
              "1279               energy,oil-spill,trade             barack-obama   \n",
              "1280                 candidates-biography          hillary-clinton   \n",
              "1281                          health-care  campaign-defend-america   \n",
              "1282                          health-care  americans-united-change   \n",
              "1283  candidates-biography,infrastructure            rudy-giuliani   \n",
              "\n",
              "                                                 5                 6   \\\n",
              "0                               U.S. Representative          Missouri   \n",
              "1                                               NaN               NaN   \n",
              "2                               U.S. representative            Oregon   \n",
              "3     Member of the State Board of Higher Education            Oregon   \n",
              "4                                         President          Illinois   \n",
              "...                                             ...               ...   \n",
              "1279                                      President          Illinois   \n",
              "1280                         Presidential candidate          New York   \n",
              "1281                                            NaN  Washington, D.C.   \n",
              "1282                                            NaN               NaN   \n",
              "1283                                       Attorney          New York   \n",
              "\n",
              "              7   8   9    10   11   12                                  13  \n",
              "0     republican   1   0    1    0    0        an interview with ABC17 News  \n",
              "1           none  11  43    8    5  105                                 NaN  \n",
              "2       democrat   0   1    1    1    0       a U.S. Ways and Means hearing  \n",
              "3           none   0   1    1    1    0                  an opinion article  \n",
              "4       democrat  70  71  160  163    9             interview with CBS News  \n",
              "...          ...  ..  ..  ...  ...  ...                                 ...  \n",
              "1279    democrat  70  71  160  163    9                  a press conference  \n",
              "1280    democrat  40  29   69   76    7             a speech on the economy  \n",
              "1281        none   0   1    0    2    0                     a television ad  \n",
              "1282        none   1   4    4    1    0                     an Internet ad.  \n",
              "1283  republican   9  11   10    7    3  comments on NBC's \"Meet the Press\"  \n",
              "\n",
              "[1284 rows x 14 columns]"
            ],
            "text/html": [
              "\n",
              "  <div id=\"df-4a398908-276a-4a92-9577-7740541dbbce\">\n",
              "    <div class=\"colab-df-container\">\n",
              "      <div>\n",
              "<style scoped>\n",
              "    .dataframe tbody tr th:only-of-type {\n",
              "        vertical-align: middle;\n",
              "    }\n",
              "\n",
              "    .dataframe tbody tr th {\n",
              "        vertical-align: top;\n",
              "    }\n",
              "\n",
              "    .dataframe thead th {\n",
              "        text-align: right;\n",
              "    }\n",
              "</style>\n",
              "<table border=\"1\" class=\"dataframe\">\n",
              "  <thead>\n",
              "    <tr style=\"text-align: right;\">\n",
              "      <th></th>\n",
              "      <th>0</th>\n",
              "      <th>1</th>\n",
              "      <th>2</th>\n",
              "      <th>3</th>\n",
              "      <th>4</th>\n",
              "      <th>5</th>\n",
              "      <th>6</th>\n",
              "      <th>7</th>\n",
              "      <th>8</th>\n",
              "      <th>9</th>\n",
              "      <th>10</th>\n",
              "      <th>11</th>\n",
              "      <th>12</th>\n",
              "      <th>13</th>\n",
              "    </tr>\n",
              "  </thead>\n",
              "  <tbody>\n",
              "    <tr>\n",
              "      <th>0</th>\n",
              "      <td>12134.json</td>\n",
              "      <td>barely-true</td>\n",
              "      <td>We have less Americans working now than in the...</td>\n",
              "      <td>economy,jobs</td>\n",
              "      <td>vicky-hartzler</td>\n",
              "      <td>U.S. Representative</td>\n",
              "      <td>Missouri</td>\n",
              "      <td>republican</td>\n",
              "      <td>1</td>\n",
              "      <td>0</td>\n",
              "      <td>1</td>\n",
              "      <td>0</td>\n",
              "      <td>0</td>\n",
              "      <td>an interview with ABC17 News</td>\n",
              "    </tr>\n",
              "    <tr>\n",
              "      <th>1</th>\n",
              "      <td>238.json</td>\n",
              "      <td>pants-fire</td>\n",
              "      <td>When Obama was sworn into office, he DID NOT u...</td>\n",
              "      <td>obama-birth-certificate,religion</td>\n",
              "      <td>chain-email</td>\n",
              "      <td>NaN</td>\n",
              "      <td>NaN</td>\n",
              "      <td>none</td>\n",
              "      <td>11</td>\n",
              "      <td>43</td>\n",
              "      <td>8</td>\n",
              "      <td>5</td>\n",
              "      <td>105</td>\n",
              "      <td>NaN</td>\n",
              "    </tr>\n",
              "    <tr>\n",
              "      <th>2</th>\n",
              "      <td>7891.json</td>\n",
              "      <td>false</td>\n",
              "      <td>Says Having organizations parading as being so...</td>\n",
              "      <td>campaign-finance,congress,taxes</td>\n",
              "      <td>earl-blumenauer</td>\n",
              "      <td>U.S. representative</td>\n",
              "      <td>Oregon</td>\n",
              "      <td>democrat</td>\n",
              "      <td>0</td>\n",
              "      <td>1</td>\n",
              "      <td>1</td>\n",
              "      <td>1</td>\n",
              "      <td>0</td>\n",
              "      <td>a U.S. Ways and Means hearing</td>\n",
              "    </tr>\n",
              "    <tr>\n",
              "      <th>3</th>\n",
              "      <td>8169.json</td>\n",
              "      <td>half-true</td>\n",
              "      <td>Says nearly half of Oregons children are poor.</td>\n",
              "      <td>poverty</td>\n",
              "      <td>jim-francesconi</td>\n",
              "      <td>Member of the State Board of Higher Education</td>\n",
              "      <td>Oregon</td>\n",
              "      <td>none</td>\n",
              "      <td>0</td>\n",
              "      <td>1</td>\n",
              "      <td>1</td>\n",
              "      <td>1</td>\n",
              "      <td>0</td>\n",
              "      <td>an opinion article</td>\n",
              "    </tr>\n",
              "    <tr>\n",
              "      <th>4</th>\n",
              "      <td>929.json</td>\n",
              "      <td>half-true</td>\n",
              "      <td>On attacks by Republicans that various program...</td>\n",
              "      <td>economy,stimulus</td>\n",
              "      <td>barack-obama</td>\n",
              "      <td>President</td>\n",
              "      <td>Illinois</td>\n",
              "      <td>democrat</td>\n",
              "      <td>70</td>\n",
              "      <td>71</td>\n",
              "      <td>160</td>\n",
              "      <td>163</td>\n",
              "      <td>9</td>\n",
              "      <td>interview with CBS News</td>\n",
              "    </tr>\n",
              "    <tr>\n",
              "      <th>...</th>\n",
              "      <td>...</td>\n",
              "      <td>...</td>\n",
              "      <td>...</td>\n",
              "      <td>...</td>\n",
              "      <td>...</td>\n",
              "      <td>...</td>\n",
              "      <td>...</td>\n",
              "      <td>...</td>\n",
              "      <td>...</td>\n",
              "      <td>...</td>\n",
              "      <td>...</td>\n",
              "      <td>...</td>\n",
              "      <td>...</td>\n",
              "      <td>...</td>\n",
              "    </tr>\n",
              "    <tr>\n",
              "      <th>1279</th>\n",
              "      <td>3419.json</td>\n",
              "      <td>half-true</td>\n",
              "      <td>For the first time in more than a decade, impo...</td>\n",
              "      <td>energy,oil-spill,trade</td>\n",
              "      <td>barack-obama</td>\n",
              "      <td>President</td>\n",
              "      <td>Illinois</td>\n",
              "      <td>democrat</td>\n",
              "      <td>70</td>\n",
              "      <td>71</td>\n",
              "      <td>160</td>\n",
              "      <td>163</td>\n",
              "      <td>9</td>\n",
              "      <td>a press conference</td>\n",
              "    </tr>\n",
              "    <tr>\n",
              "      <th>1280</th>\n",
              "      <td>12548.json</td>\n",
              "      <td>mostly-true</td>\n",
              "      <td>Says Donald Trump has bankrupted his companies...</td>\n",
              "      <td>candidates-biography</td>\n",
              "      <td>hillary-clinton</td>\n",
              "      <td>Presidential candidate</td>\n",
              "      <td>New York</td>\n",
              "      <td>democrat</td>\n",
              "      <td>40</td>\n",
              "      <td>29</td>\n",
              "      <td>69</td>\n",
              "      <td>76</td>\n",
              "      <td>7</td>\n",
              "      <td>a speech on the economy</td>\n",
              "    </tr>\n",
              "    <tr>\n",
              "      <th>1281</th>\n",
              "      <td>401.json</td>\n",
              "      <td>true</td>\n",
              "      <td>John McCain and George Bush have \"absolutely n...</td>\n",
              "      <td>health-care</td>\n",
              "      <td>campaign-defend-america</td>\n",
              "      <td>NaN</td>\n",
              "      <td>Washington, D.C.</td>\n",
              "      <td>none</td>\n",
              "      <td>0</td>\n",
              "      <td>1</td>\n",
              "      <td>0</td>\n",
              "      <td>2</td>\n",
              "      <td>0</td>\n",
              "      <td>a television ad</td>\n",
              "    </tr>\n",
              "    <tr>\n",
              "      <th>1282</th>\n",
              "      <td>1055.json</td>\n",
              "      <td>false</td>\n",
              "      <td>A new poll shows 62 percent support the presid...</td>\n",
              "      <td>health-care</td>\n",
              "      <td>americans-united-change</td>\n",
              "      <td>NaN</td>\n",
              "      <td>NaN</td>\n",
              "      <td>none</td>\n",
              "      <td>1</td>\n",
              "      <td>4</td>\n",
              "      <td>4</td>\n",
              "      <td>1</td>\n",
              "      <td>0</td>\n",
              "      <td>an Internet ad.</td>\n",
              "    </tr>\n",
              "    <tr>\n",
              "      <th>1283</th>\n",
              "      <td>9117.json</td>\n",
              "      <td>barely-true</td>\n",
              "      <td>No one claims the report vindicating New Jerse...</td>\n",
              "      <td>candidates-biography,infrastructure</td>\n",
              "      <td>rudy-giuliani</td>\n",
              "      <td>Attorney</td>\n",
              "      <td>New York</td>\n",
              "      <td>republican</td>\n",
              "      <td>9</td>\n",
              "      <td>11</td>\n",
              "      <td>10</td>\n",
              "      <td>7</td>\n",
              "      <td>3</td>\n",
              "      <td>comments on NBC's \"Meet the Press\"</td>\n",
              "    </tr>\n",
              "  </tbody>\n",
              "</table>\n",
              "<p>1284 rows × 14 columns</p>\n",
              "</div>\n",
              "      <button class=\"colab-df-convert\" onclick=\"convertToInteractive('df-4a398908-276a-4a92-9577-7740541dbbce')\"\n",
              "              title=\"Convert this dataframe to an interactive table.\"\n",
              "              style=\"display:none;\">\n",
              "        \n",
              "  <svg xmlns=\"http://www.w3.org/2000/svg\" height=\"24px\"viewBox=\"0 0 24 24\"\n",
              "       width=\"24px\">\n",
              "    <path d=\"M0 0h24v24H0V0z\" fill=\"none\"/>\n",
              "    <path d=\"M18.56 5.44l.94 2.06.94-2.06 2.06-.94-2.06-.94-.94-2.06-.94 2.06-2.06.94zm-11 1L8.5 8.5l.94-2.06 2.06-.94-2.06-.94L8.5 2.5l-.94 2.06-2.06.94zm10 10l.94 2.06.94-2.06 2.06-.94-2.06-.94-.94-2.06-.94 2.06-2.06.94z\"/><path d=\"M17.41 7.96l-1.37-1.37c-.4-.4-.92-.59-1.43-.59-.52 0-1.04.2-1.43.59L10.3 9.45l-7.72 7.72c-.78.78-.78 2.05 0 2.83L4 21.41c.39.39.9.59 1.41.59.51 0 1.02-.2 1.41-.59l7.78-7.78 2.81-2.81c.8-.78.8-2.07 0-2.86zM5.41 20L4 18.59l7.72-7.72 1.47 1.35L5.41 20z\"/>\n",
              "  </svg>\n",
              "      </button>\n",
              "      \n",
              "  <style>\n",
              "    .colab-df-container {\n",
              "      display:flex;\n",
              "      flex-wrap:wrap;\n",
              "      gap: 12px;\n",
              "    }\n",
              "\n",
              "    .colab-df-convert {\n",
              "      background-color: #E8F0FE;\n",
              "      border: none;\n",
              "      border-radius: 50%;\n",
              "      cursor: pointer;\n",
              "      display: none;\n",
              "      fill: #1967D2;\n",
              "      height: 32px;\n",
              "      padding: 0 0 0 0;\n",
              "      width: 32px;\n",
              "    }\n",
              "\n",
              "    .colab-df-convert:hover {\n",
              "      background-color: #E2EBFA;\n",
              "      box-shadow: 0px 1px 2px rgba(60, 64, 67, 0.3), 0px 1px 3px 1px rgba(60, 64, 67, 0.15);\n",
              "      fill: #174EA6;\n",
              "    }\n",
              "\n",
              "    [theme=dark] .colab-df-convert {\n",
              "      background-color: #3B4455;\n",
              "      fill: #D2E3FC;\n",
              "    }\n",
              "\n",
              "    [theme=dark] .colab-df-convert:hover {\n",
              "      background-color: #434B5C;\n",
              "      box-shadow: 0px 1px 3px 1px rgba(0, 0, 0, 0.15);\n",
              "      filter: drop-shadow(0px 1px 2px rgba(0, 0, 0, 0.3));\n",
              "      fill: #FFFFFF;\n",
              "    }\n",
              "  </style>\n",
              "\n",
              "      <script>\n",
              "        const buttonEl =\n",
              "          document.querySelector('#df-4a398908-276a-4a92-9577-7740541dbbce button.colab-df-convert');\n",
              "        buttonEl.style.display =\n",
              "          google.colab.kernel.accessAllowed ? 'block' : 'none';\n",
              "\n",
              "        async function convertToInteractive(key) {\n",
              "          const element = document.querySelector('#df-4a398908-276a-4a92-9577-7740541dbbce');\n",
              "          const dataTable =\n",
              "            await google.colab.kernel.invokeFunction('convertToInteractive',\n",
              "                                                     [key], {});\n",
              "          if (!dataTable) return;\n",
              "\n",
              "          const docLinkHtml = 'Like what you see? Visit the ' +\n",
              "            '<a target=\"_blank\" href=https://colab.research.google.com/notebooks/data_table.ipynb>data table notebook</a>'\n",
              "            + ' to learn more about interactive tables.';\n",
              "          element.innerHTML = '';\n",
              "          dataTable['output_type'] = 'display_data';\n",
              "          await google.colab.output.renderOutput(dataTable, element);\n",
              "          const docLink = document.createElement('div');\n",
              "          docLink.innerHTML = docLinkHtml;\n",
              "          element.appendChild(docLink);\n",
              "        }\n",
              "      </script>\n",
              "    </div>\n",
              "  </div>\n",
              "  "
            ]
          },
          "metadata": {}
        }
      ]
    },
    {
      "cell_type": "markdown",
      "source": [
        "## Data Preprocessing"
      ],
      "metadata": {
        "id": "_1SajwUwRQ8r"
      }
    },
    {
      "cell_type": "code",
      "source": [
        "def data_cleaning(dataset):\n",
        "    # Dropping unwanted columns\n",
        "    dataset = dataset.drop(labels=[0, 8, 9, 10, 11, 12], axis=1)\n",
        "    \n",
        "    # Renaming column 2 as 'title'\n",
        "    dataset[\"title\"] = dataset[2]\n",
        "    \n",
        "    # Dropping metadata columns, as they have been merged into a single column\n",
        "    dataset = dataset.drop([2, 3, 4, 5, 6, 7, 13], axis=1)\n",
        "    \n",
        "    # Dropping rows with null values\n",
        "    dataset.dropna()\n",
        "    \n",
        "    # Creating a new column called 'label' with 1 for 'true' and 'mostly-true' values, else 0 (1=real, 0=fake)\n",
        "    dataset['label'] = [1 if x == \"true\" or x == \"mostly-true\" else 0 for x in dataset[1]]\n",
        "    \n",
        "    # Dropping the original label column\n",
        "    dataset = dataset.drop(labels=[1], axis=1)\n",
        "    \n",
        "    return dataset\n"
      ],
      "metadata": {
        "id": "HKH2Sz5Y3nY9"
      },
      "execution_count": null,
      "outputs": []
    },
    {
      "cell_type": "code",
      "source": [
        "train_df = data_cleaning(train_df)\n",
        "test_df = data_cleaning(test_df)\n",
        "val_df = data_cleaning(val_df)"
      ],
      "metadata": {
        "id": "3puTOW6_5i1K"
      },
      "execution_count": null,
      "outputs": []
    },
    {
      "cell_type": "code",
      "source": [
        "display(train_df)"
      ],
      "metadata": {
        "colab": {
          "base_uri": "https://localhost:8080/",
          "height": 424
        },
        "id": "EoRbiNmx6Ft8",
        "outputId": "f0b18ac1-cdfa-48a2-9d96-7ba70e363c17"
      },
      "execution_count": null,
      "outputs": [
        {
          "output_type": "display_data",
          "data": {
            "text/plain": [
              "                                                   title  label\n",
              "0      Says the Annies List political group supports ...      0\n",
              "1      When did the decline of coal start? It started...      0\n",
              "2      Hillary Clinton agrees with John McCain \"by vo...      1\n",
              "3      Health care reform legislation is likely to ma...      0\n",
              "4      The economic turnaround started at the end of ...      0\n",
              "...                                                  ...    ...\n",
              "10235  There are a larger number of shark attacks in ...      1\n",
              "10236  Democrats have now become the party of the [At...      1\n",
              "10237  Says an alternative to Social Security that op...      0\n",
              "10238  On lifting the U.S. Cuban embargo and allowing...      0\n",
              "10239  The Department of Veterans Affairs has a manua...      0\n",
              "\n",
              "[10240 rows x 2 columns]"
            ],
            "text/html": [
              "\n",
              "  <div id=\"df-7c83ddde-9a72-4bef-aadd-5bf6a5141a1e\">\n",
              "    <div class=\"colab-df-container\">\n",
              "      <div>\n",
              "<style scoped>\n",
              "    .dataframe tbody tr th:only-of-type {\n",
              "        vertical-align: middle;\n",
              "    }\n",
              "\n",
              "    .dataframe tbody tr th {\n",
              "        vertical-align: top;\n",
              "    }\n",
              "\n",
              "    .dataframe thead th {\n",
              "        text-align: right;\n",
              "    }\n",
              "</style>\n",
              "<table border=\"1\" class=\"dataframe\">\n",
              "  <thead>\n",
              "    <tr style=\"text-align: right;\">\n",
              "      <th></th>\n",
              "      <th>title</th>\n",
              "      <th>label</th>\n",
              "    </tr>\n",
              "  </thead>\n",
              "  <tbody>\n",
              "    <tr>\n",
              "      <th>0</th>\n",
              "      <td>Says the Annies List political group supports ...</td>\n",
              "      <td>0</td>\n",
              "    </tr>\n",
              "    <tr>\n",
              "      <th>1</th>\n",
              "      <td>When did the decline of coal start? It started...</td>\n",
              "      <td>0</td>\n",
              "    </tr>\n",
              "    <tr>\n",
              "      <th>2</th>\n",
              "      <td>Hillary Clinton agrees with John McCain \"by vo...</td>\n",
              "      <td>1</td>\n",
              "    </tr>\n",
              "    <tr>\n",
              "      <th>3</th>\n",
              "      <td>Health care reform legislation is likely to ma...</td>\n",
              "      <td>0</td>\n",
              "    </tr>\n",
              "    <tr>\n",
              "      <th>4</th>\n",
              "      <td>The economic turnaround started at the end of ...</td>\n",
              "      <td>0</td>\n",
              "    </tr>\n",
              "    <tr>\n",
              "      <th>...</th>\n",
              "      <td>...</td>\n",
              "      <td>...</td>\n",
              "    </tr>\n",
              "    <tr>\n",
              "      <th>10235</th>\n",
              "      <td>There are a larger number of shark attacks in ...</td>\n",
              "      <td>1</td>\n",
              "    </tr>\n",
              "    <tr>\n",
              "      <th>10236</th>\n",
              "      <td>Democrats have now become the party of the [At...</td>\n",
              "      <td>1</td>\n",
              "    </tr>\n",
              "    <tr>\n",
              "      <th>10237</th>\n",
              "      <td>Says an alternative to Social Security that op...</td>\n",
              "      <td>0</td>\n",
              "    </tr>\n",
              "    <tr>\n",
              "      <th>10238</th>\n",
              "      <td>On lifting the U.S. Cuban embargo and allowing...</td>\n",
              "      <td>0</td>\n",
              "    </tr>\n",
              "    <tr>\n",
              "      <th>10239</th>\n",
              "      <td>The Department of Veterans Affairs has a manua...</td>\n",
              "      <td>0</td>\n",
              "    </tr>\n",
              "  </tbody>\n",
              "</table>\n",
              "<p>10240 rows × 2 columns</p>\n",
              "</div>\n",
              "      <button class=\"colab-df-convert\" onclick=\"convertToInteractive('df-7c83ddde-9a72-4bef-aadd-5bf6a5141a1e')\"\n",
              "              title=\"Convert this dataframe to an interactive table.\"\n",
              "              style=\"display:none;\">\n",
              "        \n",
              "  <svg xmlns=\"http://www.w3.org/2000/svg\" height=\"24px\"viewBox=\"0 0 24 24\"\n",
              "       width=\"24px\">\n",
              "    <path d=\"M0 0h24v24H0V0z\" fill=\"none\"/>\n",
              "    <path d=\"M18.56 5.44l.94 2.06.94-2.06 2.06-.94-2.06-.94-.94-2.06-.94 2.06-2.06.94zm-11 1L8.5 8.5l.94-2.06 2.06-.94-2.06-.94L8.5 2.5l-.94 2.06-2.06.94zm10 10l.94 2.06.94-2.06 2.06-.94-2.06-.94-.94-2.06-.94 2.06-2.06.94z\"/><path d=\"M17.41 7.96l-1.37-1.37c-.4-.4-.92-.59-1.43-.59-.52 0-1.04.2-1.43.59L10.3 9.45l-7.72 7.72c-.78.78-.78 2.05 0 2.83L4 21.41c.39.39.9.59 1.41.59.51 0 1.02-.2 1.41-.59l7.78-7.78 2.81-2.81c.8-.78.8-2.07 0-2.86zM5.41 20L4 18.59l7.72-7.72 1.47 1.35L5.41 20z\"/>\n",
              "  </svg>\n",
              "      </button>\n",
              "      \n",
              "  <style>\n",
              "    .colab-df-container {\n",
              "      display:flex;\n",
              "      flex-wrap:wrap;\n",
              "      gap: 12px;\n",
              "    }\n",
              "\n",
              "    .colab-df-convert {\n",
              "      background-color: #E8F0FE;\n",
              "      border: none;\n",
              "      border-radius: 50%;\n",
              "      cursor: pointer;\n",
              "      display: none;\n",
              "      fill: #1967D2;\n",
              "      height: 32px;\n",
              "      padding: 0 0 0 0;\n",
              "      width: 32px;\n",
              "    }\n",
              "\n",
              "    .colab-df-convert:hover {\n",
              "      background-color: #E2EBFA;\n",
              "      box-shadow: 0px 1px 2px rgba(60, 64, 67, 0.3), 0px 1px 3px 1px rgba(60, 64, 67, 0.15);\n",
              "      fill: #174EA6;\n",
              "    }\n",
              "\n",
              "    [theme=dark] .colab-df-convert {\n",
              "      background-color: #3B4455;\n",
              "      fill: #D2E3FC;\n",
              "    }\n",
              "\n",
              "    [theme=dark] .colab-df-convert:hover {\n",
              "      background-color: #434B5C;\n",
              "      box-shadow: 0px 1px 3px 1px rgba(0, 0, 0, 0.15);\n",
              "      filter: drop-shadow(0px 1px 2px rgba(0, 0, 0, 0.3));\n",
              "      fill: #FFFFFF;\n",
              "    }\n",
              "  </style>\n",
              "\n",
              "      <script>\n",
              "        const buttonEl =\n",
              "          document.querySelector('#df-7c83ddde-9a72-4bef-aadd-5bf6a5141a1e button.colab-df-convert');\n",
              "        buttonEl.style.display =\n",
              "          google.colab.kernel.accessAllowed ? 'block' : 'none';\n",
              "\n",
              "        async function convertToInteractive(key) {\n",
              "          const element = document.querySelector('#df-7c83ddde-9a72-4bef-aadd-5bf6a5141a1e');\n",
              "          const dataTable =\n",
              "            await google.colab.kernel.invokeFunction('convertToInteractive',\n",
              "                                                     [key], {});\n",
              "          if (!dataTable) return;\n",
              "\n",
              "          const docLinkHtml = 'Like what you see? Visit the ' +\n",
              "            '<a target=\"_blank\" href=https://colab.research.google.com/notebooks/data_table.ipynb>data table notebook</a>'\n",
              "            + ' to learn more about interactive tables.';\n",
              "          element.innerHTML = '';\n",
              "          dataTable['output_type'] = 'display_data';\n",
              "          await google.colab.output.renderOutput(dataTable, element);\n",
              "          const docLink = document.createElement('div');\n",
              "          docLink.innerHTML = docLinkHtml;\n",
              "          element.appendChild(docLink);\n",
              "        }\n",
              "      </script>\n",
              "    </div>\n",
              "  </div>\n",
              "  "
            ]
          },
          "metadata": {}
        }
      ]
    },
    {
      "cell_type": "code",
      "source": [
        "display(test_df)"
      ],
      "metadata": {
        "colab": {
          "base_uri": "https://localhost:8080/",
          "height": 424
        },
        "id": "OCuTKAxV6c9K",
        "outputId": "64a2782d-1df2-45c7-fea6-5862be764944"
      },
      "execution_count": null,
      "outputs": [
        {
          "output_type": "display_data",
          "data": {
            "text/plain": [
              "                                                  title  label\n",
              "0     Building a wall on the U.S.-Mexico border will...      1\n",
              "1     Wisconsin is on pace to double the number of l...      0\n",
              "2     Says John McCain has done nothing to help the ...      0\n",
              "3     Suzanne Bonamici supports a plan that will cut...      0\n",
              "4     When asked by a reporter whether hes at the ce...      0\n",
              "...                                                 ...    ...\n",
              "1262  Says his budget provides the highest state fun...      0\n",
              "1263                    Ive been here almost every day.      0\n",
              "1264  In the early 1980s, Sen. Edward Kennedy secret...      0\n",
              "1265  Says an EPA permit languished under Strickland...      0\n",
              "1266  Says the governor is going around the state ta...      0\n",
              "\n",
              "[1267 rows x 2 columns]"
            ],
            "text/html": [
              "\n",
              "  <div id=\"df-27e5f6e9-a537-4a44-8cbc-cffa960f7cb3\">\n",
              "    <div class=\"colab-df-container\">\n",
              "      <div>\n",
              "<style scoped>\n",
              "    .dataframe tbody tr th:only-of-type {\n",
              "        vertical-align: middle;\n",
              "    }\n",
              "\n",
              "    .dataframe tbody tr th {\n",
              "        vertical-align: top;\n",
              "    }\n",
              "\n",
              "    .dataframe thead th {\n",
              "        text-align: right;\n",
              "    }\n",
              "</style>\n",
              "<table border=\"1\" class=\"dataframe\">\n",
              "  <thead>\n",
              "    <tr style=\"text-align: right;\">\n",
              "      <th></th>\n",
              "      <th>title</th>\n",
              "      <th>label</th>\n",
              "    </tr>\n",
              "  </thead>\n",
              "  <tbody>\n",
              "    <tr>\n",
              "      <th>0</th>\n",
              "      <td>Building a wall on the U.S.-Mexico border will...</td>\n",
              "      <td>1</td>\n",
              "    </tr>\n",
              "    <tr>\n",
              "      <th>1</th>\n",
              "      <td>Wisconsin is on pace to double the number of l...</td>\n",
              "      <td>0</td>\n",
              "    </tr>\n",
              "    <tr>\n",
              "      <th>2</th>\n",
              "      <td>Says John McCain has done nothing to help the ...</td>\n",
              "      <td>0</td>\n",
              "    </tr>\n",
              "    <tr>\n",
              "      <th>3</th>\n",
              "      <td>Suzanne Bonamici supports a plan that will cut...</td>\n",
              "      <td>0</td>\n",
              "    </tr>\n",
              "    <tr>\n",
              "      <th>4</th>\n",
              "      <td>When asked by a reporter whether hes at the ce...</td>\n",
              "      <td>0</td>\n",
              "    </tr>\n",
              "    <tr>\n",
              "      <th>...</th>\n",
              "      <td>...</td>\n",
              "      <td>...</td>\n",
              "    </tr>\n",
              "    <tr>\n",
              "      <th>1262</th>\n",
              "      <td>Says his budget provides the highest state fun...</td>\n",
              "      <td>0</td>\n",
              "    </tr>\n",
              "    <tr>\n",
              "      <th>1263</th>\n",
              "      <td>Ive been here almost every day.</td>\n",
              "      <td>0</td>\n",
              "    </tr>\n",
              "    <tr>\n",
              "      <th>1264</th>\n",
              "      <td>In the early 1980s, Sen. Edward Kennedy secret...</td>\n",
              "      <td>0</td>\n",
              "    </tr>\n",
              "    <tr>\n",
              "      <th>1265</th>\n",
              "      <td>Says an EPA permit languished under Strickland...</td>\n",
              "      <td>0</td>\n",
              "    </tr>\n",
              "    <tr>\n",
              "      <th>1266</th>\n",
              "      <td>Says the governor is going around the state ta...</td>\n",
              "      <td>0</td>\n",
              "    </tr>\n",
              "  </tbody>\n",
              "</table>\n",
              "<p>1267 rows × 2 columns</p>\n",
              "</div>\n",
              "      <button class=\"colab-df-convert\" onclick=\"convertToInteractive('df-27e5f6e9-a537-4a44-8cbc-cffa960f7cb3')\"\n",
              "              title=\"Convert this dataframe to an interactive table.\"\n",
              "              style=\"display:none;\">\n",
              "        \n",
              "  <svg xmlns=\"http://www.w3.org/2000/svg\" height=\"24px\"viewBox=\"0 0 24 24\"\n",
              "       width=\"24px\">\n",
              "    <path d=\"M0 0h24v24H0V0z\" fill=\"none\"/>\n",
              "    <path d=\"M18.56 5.44l.94 2.06.94-2.06 2.06-.94-2.06-.94-.94-2.06-.94 2.06-2.06.94zm-11 1L8.5 8.5l.94-2.06 2.06-.94-2.06-.94L8.5 2.5l-.94 2.06-2.06.94zm10 10l.94 2.06.94-2.06 2.06-.94-2.06-.94-.94-2.06-.94 2.06-2.06.94z\"/><path d=\"M17.41 7.96l-1.37-1.37c-.4-.4-.92-.59-1.43-.59-.52 0-1.04.2-1.43.59L10.3 9.45l-7.72 7.72c-.78.78-.78 2.05 0 2.83L4 21.41c.39.39.9.59 1.41.59.51 0 1.02-.2 1.41-.59l7.78-7.78 2.81-2.81c.8-.78.8-2.07 0-2.86zM5.41 20L4 18.59l7.72-7.72 1.47 1.35L5.41 20z\"/>\n",
              "  </svg>\n",
              "      </button>\n",
              "      \n",
              "  <style>\n",
              "    .colab-df-container {\n",
              "      display:flex;\n",
              "      flex-wrap:wrap;\n",
              "      gap: 12px;\n",
              "    }\n",
              "\n",
              "    .colab-df-convert {\n",
              "      background-color: #E8F0FE;\n",
              "      border: none;\n",
              "      border-radius: 50%;\n",
              "      cursor: pointer;\n",
              "      display: none;\n",
              "      fill: #1967D2;\n",
              "      height: 32px;\n",
              "      padding: 0 0 0 0;\n",
              "      width: 32px;\n",
              "    }\n",
              "\n",
              "    .colab-df-convert:hover {\n",
              "      background-color: #E2EBFA;\n",
              "      box-shadow: 0px 1px 2px rgba(60, 64, 67, 0.3), 0px 1px 3px 1px rgba(60, 64, 67, 0.15);\n",
              "      fill: #174EA6;\n",
              "    }\n",
              "\n",
              "    [theme=dark] .colab-df-convert {\n",
              "      background-color: #3B4455;\n",
              "      fill: #D2E3FC;\n",
              "    }\n",
              "\n",
              "    [theme=dark] .colab-df-convert:hover {\n",
              "      background-color: #434B5C;\n",
              "      box-shadow: 0px 1px 3px 1px rgba(0, 0, 0, 0.15);\n",
              "      filter: drop-shadow(0px 1px 2px rgba(0, 0, 0, 0.3));\n",
              "      fill: #FFFFFF;\n",
              "    }\n",
              "  </style>\n",
              "\n",
              "      <script>\n",
              "        const buttonEl =\n",
              "          document.querySelector('#df-27e5f6e9-a537-4a44-8cbc-cffa960f7cb3 button.colab-df-convert');\n",
              "        buttonEl.style.display =\n",
              "          google.colab.kernel.accessAllowed ? 'block' : 'none';\n",
              "\n",
              "        async function convertToInteractive(key) {\n",
              "          const element = document.querySelector('#df-27e5f6e9-a537-4a44-8cbc-cffa960f7cb3');\n",
              "          const dataTable =\n",
              "            await google.colab.kernel.invokeFunction('convertToInteractive',\n",
              "                                                     [key], {});\n",
              "          if (!dataTable) return;\n",
              "\n",
              "          const docLinkHtml = 'Like what you see? Visit the ' +\n",
              "            '<a target=\"_blank\" href=https://colab.research.google.com/notebooks/data_table.ipynb>data table notebook</a>'\n",
              "            + ' to learn more about interactive tables.';\n",
              "          element.innerHTML = '';\n",
              "          dataTable['output_type'] = 'display_data';\n",
              "          await google.colab.output.renderOutput(dataTable, element);\n",
              "          const docLink = document.createElement('div');\n",
              "          docLink.innerHTML = docLinkHtml;\n",
              "          element.appendChild(docLink);\n",
              "        }\n",
              "      </script>\n",
              "    </div>\n",
              "  </div>\n",
              "  "
            ]
          },
          "metadata": {}
        }
      ]
    },
    {
      "cell_type": "code",
      "source": [
        "display(val_df)"
      ],
      "metadata": {
        "colab": {
          "base_uri": "https://localhost:8080/",
          "height": 424
        },
        "id": "jgWBG7-w6gXK",
        "outputId": "acbf3a49-20aa-45ae-c143-3ce0bdf85183"
      },
      "execution_count": null,
      "outputs": [
        {
          "output_type": "display_data",
          "data": {
            "text/plain": [
              "                                                  title  label\n",
              "0     We have less Americans working now than in the...      0\n",
              "1     When Obama was sworn into office, he DID NOT u...      0\n",
              "2     Says Having organizations parading as being so...      0\n",
              "3        Says nearly half of Oregons children are poor.      0\n",
              "4     On attacks by Republicans that various program...      0\n",
              "...                                                 ...    ...\n",
              "1279  For the first time in more than a decade, impo...      0\n",
              "1280  Says Donald Trump has bankrupted his companies...      1\n",
              "1281  John McCain and George Bush have \"absolutely n...      1\n",
              "1282  A new poll shows 62 percent support the presid...      0\n",
              "1283  No one claims the report vindicating New Jerse...      0\n",
              "\n",
              "[1284 rows x 2 columns]"
            ],
            "text/html": [
              "\n",
              "  <div id=\"df-23828c78-5996-4502-88e7-24d14405da18\">\n",
              "    <div class=\"colab-df-container\">\n",
              "      <div>\n",
              "<style scoped>\n",
              "    .dataframe tbody tr th:only-of-type {\n",
              "        vertical-align: middle;\n",
              "    }\n",
              "\n",
              "    .dataframe tbody tr th {\n",
              "        vertical-align: top;\n",
              "    }\n",
              "\n",
              "    .dataframe thead th {\n",
              "        text-align: right;\n",
              "    }\n",
              "</style>\n",
              "<table border=\"1\" class=\"dataframe\">\n",
              "  <thead>\n",
              "    <tr style=\"text-align: right;\">\n",
              "      <th></th>\n",
              "      <th>title</th>\n",
              "      <th>label</th>\n",
              "    </tr>\n",
              "  </thead>\n",
              "  <tbody>\n",
              "    <tr>\n",
              "      <th>0</th>\n",
              "      <td>We have less Americans working now than in the...</td>\n",
              "      <td>0</td>\n",
              "    </tr>\n",
              "    <tr>\n",
              "      <th>1</th>\n",
              "      <td>When Obama was sworn into office, he DID NOT u...</td>\n",
              "      <td>0</td>\n",
              "    </tr>\n",
              "    <tr>\n",
              "      <th>2</th>\n",
              "      <td>Says Having organizations parading as being so...</td>\n",
              "      <td>0</td>\n",
              "    </tr>\n",
              "    <tr>\n",
              "      <th>3</th>\n",
              "      <td>Says nearly half of Oregons children are poor.</td>\n",
              "      <td>0</td>\n",
              "    </tr>\n",
              "    <tr>\n",
              "      <th>4</th>\n",
              "      <td>On attacks by Republicans that various program...</td>\n",
              "      <td>0</td>\n",
              "    </tr>\n",
              "    <tr>\n",
              "      <th>...</th>\n",
              "      <td>...</td>\n",
              "      <td>...</td>\n",
              "    </tr>\n",
              "    <tr>\n",
              "      <th>1279</th>\n",
              "      <td>For the first time in more than a decade, impo...</td>\n",
              "      <td>0</td>\n",
              "    </tr>\n",
              "    <tr>\n",
              "      <th>1280</th>\n",
              "      <td>Says Donald Trump has bankrupted his companies...</td>\n",
              "      <td>1</td>\n",
              "    </tr>\n",
              "    <tr>\n",
              "      <th>1281</th>\n",
              "      <td>John McCain and George Bush have \"absolutely n...</td>\n",
              "      <td>1</td>\n",
              "    </tr>\n",
              "    <tr>\n",
              "      <th>1282</th>\n",
              "      <td>A new poll shows 62 percent support the presid...</td>\n",
              "      <td>0</td>\n",
              "    </tr>\n",
              "    <tr>\n",
              "      <th>1283</th>\n",
              "      <td>No one claims the report vindicating New Jerse...</td>\n",
              "      <td>0</td>\n",
              "    </tr>\n",
              "  </tbody>\n",
              "</table>\n",
              "<p>1284 rows × 2 columns</p>\n",
              "</div>\n",
              "      <button class=\"colab-df-convert\" onclick=\"convertToInteractive('df-23828c78-5996-4502-88e7-24d14405da18')\"\n",
              "              title=\"Convert this dataframe to an interactive table.\"\n",
              "              style=\"display:none;\">\n",
              "        \n",
              "  <svg xmlns=\"http://www.w3.org/2000/svg\" height=\"24px\"viewBox=\"0 0 24 24\"\n",
              "       width=\"24px\">\n",
              "    <path d=\"M0 0h24v24H0V0z\" fill=\"none\"/>\n",
              "    <path d=\"M18.56 5.44l.94 2.06.94-2.06 2.06-.94-2.06-.94-.94-2.06-.94 2.06-2.06.94zm-11 1L8.5 8.5l.94-2.06 2.06-.94-2.06-.94L8.5 2.5l-.94 2.06-2.06.94zm10 10l.94 2.06.94-2.06 2.06-.94-2.06-.94-.94-2.06-.94 2.06-2.06.94z\"/><path d=\"M17.41 7.96l-1.37-1.37c-.4-.4-.92-.59-1.43-.59-.52 0-1.04.2-1.43.59L10.3 9.45l-7.72 7.72c-.78.78-.78 2.05 0 2.83L4 21.41c.39.39.9.59 1.41.59.51 0 1.02-.2 1.41-.59l7.78-7.78 2.81-2.81c.8-.78.8-2.07 0-2.86zM5.41 20L4 18.59l7.72-7.72 1.47 1.35L5.41 20z\"/>\n",
              "  </svg>\n",
              "      </button>\n",
              "      \n",
              "  <style>\n",
              "    .colab-df-container {\n",
              "      display:flex;\n",
              "      flex-wrap:wrap;\n",
              "      gap: 12px;\n",
              "    }\n",
              "\n",
              "    .colab-df-convert {\n",
              "      background-color: #E8F0FE;\n",
              "      border: none;\n",
              "      border-radius: 50%;\n",
              "      cursor: pointer;\n",
              "      display: none;\n",
              "      fill: #1967D2;\n",
              "      height: 32px;\n",
              "      padding: 0 0 0 0;\n",
              "      width: 32px;\n",
              "    }\n",
              "\n",
              "    .colab-df-convert:hover {\n",
              "      background-color: #E2EBFA;\n",
              "      box-shadow: 0px 1px 2px rgba(60, 64, 67, 0.3), 0px 1px 3px 1px rgba(60, 64, 67, 0.15);\n",
              "      fill: #174EA6;\n",
              "    }\n",
              "\n",
              "    [theme=dark] .colab-df-convert {\n",
              "      background-color: #3B4455;\n",
              "      fill: #D2E3FC;\n",
              "    }\n",
              "\n",
              "    [theme=dark] .colab-df-convert:hover {\n",
              "      background-color: #434B5C;\n",
              "      box-shadow: 0px 1px 3px 1px rgba(0, 0, 0, 0.15);\n",
              "      filter: drop-shadow(0px 1px 2px rgba(0, 0, 0, 0.3));\n",
              "      fill: #FFFFFF;\n",
              "    }\n",
              "  </style>\n",
              "\n",
              "      <script>\n",
              "        const buttonEl =\n",
              "          document.querySelector('#df-23828c78-5996-4502-88e7-24d14405da18 button.colab-df-convert');\n",
              "        buttonEl.style.display =\n",
              "          google.colab.kernel.accessAllowed ? 'block' : 'none';\n",
              "\n",
              "        async function convertToInteractive(key) {\n",
              "          const element = document.querySelector('#df-23828c78-5996-4502-88e7-24d14405da18');\n",
              "          const dataTable =\n",
              "            await google.colab.kernel.invokeFunction('convertToInteractive',\n",
              "                                                     [key], {});\n",
              "          if (!dataTable) return;\n",
              "\n",
              "          const docLinkHtml = 'Like what you see? Visit the ' +\n",
              "            '<a target=\"_blank\" href=https://colab.research.google.com/notebooks/data_table.ipynb>data table notebook</a>'\n",
              "            + ' to learn more about interactive tables.';\n",
              "          element.innerHTML = '';\n",
              "          dataTable['output_type'] = 'display_data';\n",
              "          await google.colab.output.renderOutput(dataTable, element);\n",
              "          const docLink = document.createElement('div');\n",
              "          docLink.innerHTML = docLinkHtml;\n",
              "          element.appendChild(docLink);\n",
              "        }\n",
              "      </script>\n",
              "    </div>\n",
              "  </div>\n",
              "  "
            ]
          },
          "metadata": {}
        }
      ]
    },
    {
      "cell_type": "code",
      "source": [
        "train_df = train_df.reset_index(drop=True)\n",
        "val_df = val_df.reset_index(drop=True)\n",
        "test_df = test_df.reset_index(drop=True)\n",
        "\n",
        "# Resetting the index of train_df, val_df, and test_df after dropping rows\n",
        "# The drop=True parameter ensures that the old index is not added as a new column\n",
        "\n",
        "print('trainset size:', train_df.shape)  # Print the size of the trainset (number of rows and columns)\n",
        "print('valset size:', val_df.shape)  # Print the size of the valset (number of rows and columns)\n",
        "print('testset size:', test_df.shape)  # Print the size of the testset (number of rows and columns)\n"
      ],
      "metadata": {
        "colab": {
          "base_uri": "https://localhost:8080/"
        },
        "id": "VTDRnGgUEW-_",
        "outputId": "bf02ad06-90f8-474c-a108-a5b1426bc40a"
      },
      "execution_count": null,
      "outputs": [
        {
          "output_type": "stream",
          "name": "stdout",
          "text": [
            "trainset size: (10240, 2)\n",
            "valset size: (1284, 2)\n",
            "testset size: (1267, 2)\n"
          ]
        }
      ]
    },
    {
      "cell_type": "code",
      "source": [
        "train_df.to_csv('train.tsv', sep='\\t', index=False)\n",
        "val_df.to_csv('val.tsv', sep='\\t', index=False)\n",
        "test_df.to_csv('test.tsv', sep='\\t', index=False)"
      ],
      "metadata": {
        "id": "KnynoIm9CyWg"
      },
      "execution_count": null,
      "outputs": []
    },
    {
      "cell_type": "code",
      "source": [
        "df = pd.concat([train_df, val_df, test_df])\n",
        "display(df)"
      ],
      "metadata": {
        "colab": {
          "base_uri": "https://localhost:8080/",
          "height": 424
        },
        "id": "qGDu_jOT9bxL",
        "outputId": "ddef7ef5-0a97-49c4-f335-c8d7d37f39c5"
      },
      "execution_count": null,
      "outputs": [
        {
          "output_type": "display_data",
          "data": {
            "text/plain": [
              "                                                  title  label\n",
              "0     Says the Annies List political group supports ...      0\n",
              "1     When did the decline of coal start? It started...      0\n",
              "2     Hillary Clinton agrees with John McCain \"by vo...      1\n",
              "3     Health care reform legislation is likely to ma...      0\n",
              "4     The economic turnaround started at the end of ...      0\n",
              "...                                                 ...    ...\n",
              "1262  Says his budget provides the highest state fun...      0\n",
              "1263                    Ive been here almost every day.      0\n",
              "1264  In the early 1980s, Sen. Edward Kennedy secret...      0\n",
              "1265  Says an EPA permit languished under Strickland...      0\n",
              "1266  Says the governor is going around the state ta...      0\n",
              "\n",
              "[12791 rows x 2 columns]"
            ],
            "text/html": [
              "\n",
              "  <div id=\"df-96c388f2-4332-44e1-80c2-b36ac34f4949\">\n",
              "    <div class=\"colab-df-container\">\n",
              "      <div>\n",
              "<style scoped>\n",
              "    .dataframe tbody tr th:only-of-type {\n",
              "        vertical-align: middle;\n",
              "    }\n",
              "\n",
              "    .dataframe tbody tr th {\n",
              "        vertical-align: top;\n",
              "    }\n",
              "\n",
              "    .dataframe thead th {\n",
              "        text-align: right;\n",
              "    }\n",
              "</style>\n",
              "<table border=\"1\" class=\"dataframe\">\n",
              "  <thead>\n",
              "    <tr style=\"text-align: right;\">\n",
              "      <th></th>\n",
              "      <th>title</th>\n",
              "      <th>label</th>\n",
              "    </tr>\n",
              "  </thead>\n",
              "  <tbody>\n",
              "    <tr>\n",
              "      <th>0</th>\n",
              "      <td>Says the Annies List political group supports ...</td>\n",
              "      <td>0</td>\n",
              "    </tr>\n",
              "    <tr>\n",
              "      <th>1</th>\n",
              "      <td>When did the decline of coal start? It started...</td>\n",
              "      <td>0</td>\n",
              "    </tr>\n",
              "    <tr>\n",
              "      <th>2</th>\n",
              "      <td>Hillary Clinton agrees with John McCain \"by vo...</td>\n",
              "      <td>1</td>\n",
              "    </tr>\n",
              "    <tr>\n",
              "      <th>3</th>\n",
              "      <td>Health care reform legislation is likely to ma...</td>\n",
              "      <td>0</td>\n",
              "    </tr>\n",
              "    <tr>\n",
              "      <th>4</th>\n",
              "      <td>The economic turnaround started at the end of ...</td>\n",
              "      <td>0</td>\n",
              "    </tr>\n",
              "    <tr>\n",
              "      <th>...</th>\n",
              "      <td>...</td>\n",
              "      <td>...</td>\n",
              "    </tr>\n",
              "    <tr>\n",
              "      <th>1262</th>\n",
              "      <td>Says his budget provides the highest state fun...</td>\n",
              "      <td>0</td>\n",
              "    </tr>\n",
              "    <tr>\n",
              "      <th>1263</th>\n",
              "      <td>Ive been here almost every day.</td>\n",
              "      <td>0</td>\n",
              "    </tr>\n",
              "    <tr>\n",
              "      <th>1264</th>\n",
              "      <td>In the early 1980s, Sen. Edward Kennedy secret...</td>\n",
              "      <td>0</td>\n",
              "    </tr>\n",
              "    <tr>\n",
              "      <th>1265</th>\n",
              "      <td>Says an EPA permit languished under Strickland...</td>\n",
              "      <td>0</td>\n",
              "    </tr>\n",
              "    <tr>\n",
              "      <th>1266</th>\n",
              "      <td>Says the governor is going around the state ta...</td>\n",
              "      <td>0</td>\n",
              "    </tr>\n",
              "  </tbody>\n",
              "</table>\n",
              "<p>12791 rows × 2 columns</p>\n",
              "</div>\n",
              "      <button class=\"colab-df-convert\" onclick=\"convertToInteractive('df-96c388f2-4332-44e1-80c2-b36ac34f4949')\"\n",
              "              title=\"Convert this dataframe to an interactive table.\"\n",
              "              style=\"display:none;\">\n",
              "        \n",
              "  <svg xmlns=\"http://www.w3.org/2000/svg\" height=\"24px\"viewBox=\"0 0 24 24\"\n",
              "       width=\"24px\">\n",
              "    <path d=\"M0 0h24v24H0V0z\" fill=\"none\"/>\n",
              "    <path d=\"M18.56 5.44l.94 2.06.94-2.06 2.06-.94-2.06-.94-.94-2.06-.94 2.06-2.06.94zm-11 1L8.5 8.5l.94-2.06 2.06-.94-2.06-.94L8.5 2.5l-.94 2.06-2.06.94zm10 10l.94 2.06.94-2.06 2.06-.94-2.06-.94-.94-2.06-.94 2.06-2.06.94z\"/><path d=\"M17.41 7.96l-1.37-1.37c-.4-.4-.92-.59-1.43-.59-.52 0-1.04.2-1.43.59L10.3 9.45l-7.72 7.72c-.78.78-.78 2.05 0 2.83L4 21.41c.39.39.9.59 1.41.59.51 0 1.02-.2 1.41-.59l7.78-7.78 2.81-2.81c.8-.78.8-2.07 0-2.86zM5.41 20L4 18.59l7.72-7.72 1.47 1.35L5.41 20z\"/>\n",
              "  </svg>\n",
              "      </button>\n",
              "      \n",
              "  <style>\n",
              "    .colab-df-container {\n",
              "      display:flex;\n",
              "      flex-wrap:wrap;\n",
              "      gap: 12px;\n",
              "    }\n",
              "\n",
              "    .colab-df-convert {\n",
              "      background-color: #E8F0FE;\n",
              "      border: none;\n",
              "      border-radius: 50%;\n",
              "      cursor: pointer;\n",
              "      display: none;\n",
              "      fill: #1967D2;\n",
              "      height: 32px;\n",
              "      padding: 0 0 0 0;\n",
              "      width: 32px;\n",
              "    }\n",
              "\n",
              "    .colab-df-convert:hover {\n",
              "      background-color: #E2EBFA;\n",
              "      box-shadow: 0px 1px 2px rgba(60, 64, 67, 0.3), 0px 1px 3px 1px rgba(60, 64, 67, 0.15);\n",
              "      fill: #174EA6;\n",
              "    }\n",
              "\n",
              "    [theme=dark] .colab-df-convert {\n",
              "      background-color: #3B4455;\n",
              "      fill: #D2E3FC;\n",
              "    }\n",
              "\n",
              "    [theme=dark] .colab-df-convert:hover {\n",
              "      background-color: #434B5C;\n",
              "      box-shadow: 0px 1px 3px 1px rgba(0, 0, 0, 0.15);\n",
              "      filter: drop-shadow(0px 1px 2px rgba(0, 0, 0, 0.3));\n",
              "      fill: #FFFFFF;\n",
              "    }\n",
              "  </style>\n",
              "\n",
              "      <script>\n",
              "        const buttonEl =\n",
              "          document.querySelector('#df-96c388f2-4332-44e1-80c2-b36ac34f4949 button.colab-df-convert');\n",
              "        buttonEl.style.display =\n",
              "          google.colab.kernel.accessAllowed ? 'block' : 'none';\n",
              "\n",
              "        async function convertToInteractive(key) {\n",
              "          const element = document.querySelector('#df-96c388f2-4332-44e1-80c2-b36ac34f4949');\n",
              "          const dataTable =\n",
              "            await google.colab.kernel.invokeFunction('convertToInteractive',\n",
              "                                                     [key], {});\n",
              "          if (!dataTable) return;\n",
              "\n",
              "          const docLinkHtml = 'Like what you see? Visit the ' +\n",
              "            '<a target=\"_blank\" href=https://colab.research.google.com/notebooks/data_table.ipynb>data table notebook</a>'\n",
              "            + ' to learn more about interactive tables.';\n",
              "          element.innerHTML = '';\n",
              "          dataTable['output_type'] = 'display_data';\n",
              "          await google.colab.output.renderOutput(dataTable, element);\n",
              "          const docLink = document.createElement('div');\n",
              "          docLink.innerHTML = docLinkHtml;\n",
              "          element.appendChild(docLink);\n",
              "        }\n",
              "      </script>\n",
              "    </div>\n",
              "  </div>\n",
              "  "
            ]
          },
          "metadata": {}
        }
      ]
    },
    {
      "cell_type": "markdown",
      "source": [
        "### Removing stopwords"
      ],
      "metadata": {
        "id": "J7UVZYc2RcDD"
      }
    },
    {
      "cell_type": "code",
      "source": [
        "import nltk\n",
        "# Download stopwords from NLTK\n",
        "nltk.download(\"stopwords\")\n",
        "\n",
        "# Import stopwords from NLTK corpus\n",
        "from nltk.corpus import stopwords\n",
        "\n",
        "# Get the list of English stopwords\n",
        "stop_words = stopwords.words('english')\n",
        "\n",
        "# Add additional stopwords to the list\n",
        "stop_words.extend(['from', 'subject', 're', 'edu', 'use'])"
      ],
      "metadata": {
        "colab": {
          "base_uri": "https://localhost:8080/"
        },
        "id": "KxB_H1AJ9eZh",
        "outputId": "39c96298-a6cb-4a06-dffb-0faccd201ef7"
      },
      "execution_count": null,
      "outputs": [
        {
          "output_type": "stream",
          "name": "stderr",
          "text": [
            "[nltk_data] Downloading package stopwords to /root/nltk_data...\n",
            "[nltk_data]   Unzipping corpora/stopwords.zip.\n"
          ]
        }
      ]
    },
    {
      "cell_type": "code",
      "source": [
        "def preprocess(text):\n",
        "    result = []\n",
        "    for token in gensim.utils.simple_preprocess(text):\n",
        "      # Check if the token is not a stopword, has a length greater than 3, and is not in the additional stop_words\n",
        "      if token not in gensim.parsing.preprocessing.STOPWORDS and len(token) > 3 and token not in stop_words:\n",
        "        result.append(token)\n",
        "    return result"
      ],
      "metadata": {
        "id": "OJTmjQq19fxg"
      },
      "execution_count": null,
      "outputs": []
    },
    {
      "cell_type": "code",
      "source": [
        "import gensim\n",
        "\n",
        "# Applying The Function To The Dataframe\n",
        "df['clean'] = df['title'].apply(preprocess)"
      ],
      "metadata": {
        "id": "CtrHnThM9h3y"
      },
      "execution_count": null,
      "outputs": []
    },
    {
      "cell_type": "code",
      "source": [
        "list_of_words = []  # Initialize an empty list to store individual words\n",
        "for i in df.clean:  # Iterate over each entry in the 'clean' column of the DataFrame\n",
        "    for j in i:  # Iterate over each word in the entry\n",
        "        list_of_words.append(j)  # Append the word to the list_of_words\n",
        "\n",
        "total_words = len(list(set(list_of_words)))  # Count the total number of unique words\n",
        "display(total_words)  # Display the total number of unique words"
      ],
      "metadata": {
        "colab": {
          "base_uri": "https://localhost:8080/",
          "height": 35
        },
        "id": "J18pVvi99mtK",
        "outputId": "7bf2661b-3df0-4996-ee21-fefb3e117e34"
      },
      "execution_count": null,
      "outputs": [
        {
          "output_type": "display_data",
          "data": {
            "text/plain": [
              "11977"
            ]
          },
          "metadata": {}
        }
      ]
    },
    {
      "cell_type": "code",
      "source": [
        "from nltk import word_tokenize"
      ],
      "metadata": {
        "id": "A8V3kwYnA_qD"
      },
      "execution_count": null,
      "outputs": []
    },
    {
      "cell_type": "markdown",
      "source": [
        "### using tokenizer to create Tokens"
      ],
      "metadata": {
        "id": "FS7pJlPMRve1"
      }
    },
    {
      "cell_type": "code",
      "source": [
        "from tensorflow.keras.preprocessing.text import Tokenizer\n",
        "\n",
        "# Creating a Tokenizer object\n",
        "tokenizer = Tokenizer(num_words=total_words)\n",
        "\n",
        "# Fitting the Tokenizer on the 'title' column of the train_df\n",
        "tokenizer.fit_on_texts(train_df['title'])\n",
        "\n",
        "# Converting the 'title' column of train_df, val_df, and test_df into sequences of tokenized words\n",
        "train_sequences = tokenizer.texts_to_sequences(train_df['title'])\n",
        "val_sequences = tokenizer.texts_to_sequences(val_df['title'])\n",
        "test_sequences = tokenizer.texts_to_sequences(test_df['title'])\n"
      ],
      "metadata": {
        "id": "EHyK90aaBLtd"
      },
      "execution_count": null,
      "outputs": []
    },
    {
      "cell_type": "code",
      "source": [
        "from tensorflow.keras.preprocessing.sequence import pad_sequences\n",
        "\n",
        "# Adding Padding to train_sequences\n",
        "padded_train = pad_sequences(train_sequences, maxlen=20, padding='post', truncating='post')\n",
        "\n",
        "# Adding Padding to val_sequences\n",
        "padded_val = pad_sequences(val_sequences, maxlen=20, padding='post', truncating='post')\n",
        "\n",
        "# Adding Padding to test_sequences\n",
        "padded_test = pad_sequences(test_sequences, maxlen=20, padding='post', truncating='post')\n"
      ],
      "metadata": {
        "id": "X5-9VhcfBMQt"
      },
      "execution_count": null,
      "outputs": []
    },
    {
      "cell_type": "markdown",
      "source": [
        "# **BERT**"
      ],
      "metadata": {
        "id": "8LQgpZGrBOZ6"
      }
    },
    {
      "cell_type": "code",
      "source": [
        "!pip install transformers\n",
        "\n",
        "import torch\n",
        "from transformers import BertTokenizer"
      ],
      "metadata": {
        "id": "jqFWj6AXBQ23",
        "colab": {
          "base_uri": "https://localhost:8080/"
        },
        "outputId": "ae520b8f-d85f-433c-9720-7266a92d6dc3"
      },
      "execution_count": null,
      "outputs": [
        {
          "output_type": "stream",
          "name": "stdout",
          "text": [
            "Looking in indexes: https://pypi.org/simple, https://us-python.pkg.dev/colab-wheels/public/simple/\n",
            "Collecting transformers\n",
            "  Downloading transformers-4.29.2-py3-none-any.whl (7.1 MB)\n",
            "\u001b[2K     \u001b[90m━━━━━━━━━━━━━━━━━━━━━━━━━━━━━━━━━━━━━━━━\u001b[0m \u001b[32m7.1/7.1 MB\u001b[0m \u001b[31m112.8 MB/s\u001b[0m eta \u001b[36m0:00:00\u001b[0m\n",
            "\u001b[?25hRequirement already satisfied: filelock in /usr/local/lib/python3.10/dist-packages (from transformers) (3.12.0)\n",
            "Collecting huggingface-hub<1.0,>=0.14.1 (from transformers)\n",
            "  Downloading huggingface_hub-0.14.1-py3-none-any.whl (224 kB)\n",
            "\u001b[2K     \u001b[90m━━━━━━━━━━━━━━━━━━━━━━━━━━━━━━━━━━━━━━\u001b[0m \u001b[32m224.5/224.5 kB\u001b[0m \u001b[31m29.3 MB/s\u001b[0m eta \u001b[36m0:00:00\u001b[0m\n",
            "\u001b[?25hRequirement already satisfied: numpy>=1.17 in /usr/local/lib/python3.10/dist-packages (from transformers) (1.22.4)\n",
            "Requirement already satisfied: packaging>=20.0 in /usr/local/lib/python3.10/dist-packages (from transformers) (23.1)\n",
            "Requirement already satisfied: pyyaml>=5.1 in /usr/local/lib/python3.10/dist-packages (from transformers) (6.0)\n",
            "Requirement already satisfied: regex!=2019.12.17 in /usr/local/lib/python3.10/dist-packages (from transformers) (2022.10.31)\n",
            "Requirement already satisfied: requests in /usr/local/lib/python3.10/dist-packages (from transformers) (2.27.1)\n",
            "Collecting tokenizers!=0.11.3,<0.14,>=0.11.1 (from transformers)\n",
            "  Downloading tokenizers-0.13.3-cp310-cp310-manylinux_2_17_x86_64.manylinux2014_x86_64.whl (7.8 MB)\n",
            "\u001b[2K     \u001b[90m━━━━━━━━━━━━━━━━━━━━━━━━━━━━━━━━━━━━━━━━\u001b[0m \u001b[32m7.8/7.8 MB\u001b[0m \u001b[31m103.2 MB/s\u001b[0m eta \u001b[36m0:00:00\u001b[0m\n",
            "\u001b[?25hRequirement already satisfied: tqdm>=4.27 in /usr/local/lib/python3.10/dist-packages (from transformers) (4.65.0)\n",
            "Requirement already satisfied: fsspec in /usr/local/lib/python3.10/dist-packages (from huggingface-hub<1.0,>=0.14.1->transformers) (2023.4.0)\n",
            "Requirement already satisfied: typing-extensions>=3.7.4.3 in /usr/local/lib/python3.10/dist-packages (from huggingface-hub<1.0,>=0.14.1->transformers) (4.5.0)\n",
            "Requirement already satisfied: urllib3<1.27,>=1.21.1 in /usr/local/lib/python3.10/dist-packages (from requests->transformers) (1.26.15)\n",
            "Requirement already satisfied: certifi>=2017.4.17 in /usr/local/lib/python3.10/dist-packages (from requests->transformers) (2022.12.7)\n",
            "Requirement already satisfied: charset-normalizer~=2.0.0 in /usr/local/lib/python3.10/dist-packages (from requests->transformers) (2.0.12)\n",
            "Requirement already satisfied: idna<4,>=2.5 in /usr/local/lib/python3.10/dist-packages (from requests->transformers) (3.4)\n",
            "Installing collected packages: tokenizers, huggingface-hub, transformers\n",
            "Successfully installed huggingface-hub-0.14.1 tokenizers-0.13.3 transformers-4.29.2\n"
          ]
        }
      ]
    },
    {
      "cell_type": "markdown",
      "source": [
        "### Processing Data for BERT model"
      ],
      "metadata": {
        "id": "EoqLD0VXR043"
      }
    },
    {
      "cell_type": "code",
      "source": [
        "from torch.utils.data import Dataset\n",
        "\n",
        "class FakeNewsDataset(Dataset):\n",
        "    def __init__(self, mode, tokenizer):\n",
        "        assert mode in ['train', 'test']\n",
        "        self.mode = mode\n",
        "        self.df = pd.read_csv(mode + '.tsv', sep='\\t').fillna(\"\")\n",
        "        self.len = len(self.df)\n",
        "        self.tokenizer = tokenizer  # BERT tokenizer\n",
        "    \n",
        "    def __getitem__(self, idx):\n",
        "        # Get the statement and label from the dataframe\n",
        "        statement, label = self.df.iloc[idx, :].values\n",
        "        \n",
        "        # Convert the label to a tensor\n",
        "        label_tensor = torch.tensor(label)\n",
        "        \n",
        "        # Tokenize the statement\n",
        "        word_pieces = ['[CLS]']\n",
        "        statement = self.tokenizer.tokenize(statement)\n",
        "        word_pieces += statement + ['[SEP]']\n",
        "        len_st = len(word_pieces)\n",
        "\n",
        "        # Convert the tokens to token IDs\n",
        "        ids = self.tokenizer.convert_tokens_to_ids(word_pieces)\n",
        "        tokens_tensor = torch.tensor(ids)\n",
        "        \n",
        "        # Create segments tensor with all 0s\n",
        "        segments_tensor = torch.tensor([0] * len_st, dtype=torch.long)\n",
        "        \n",
        "        return (tokens_tensor, segments_tensor, label_tensor)\n",
        "      \n",
        "    def __len__(self):\n",
        "        return self.len\n",
        "    \n",
        "# Initialize Datasets for Transformation\n",
        "trainset = FakeNewsDataset('train', tokenizer=tokenizer)\n",
        "testset = FakeNewsDataset('test', tokenizer=tokenizer)\n",
        "\n",
        "print('trainset size:', trainset.__len__())\n",
        "print('testset size:', testset.__len__())\n"
      ],
      "metadata": {
        "id": "o1xbDS4bBXVJ",
        "colab": {
          "base_uri": "https://localhost:8080/"
        },
        "outputId": "a0736fc8-5572-43f5-a4eb-2c1374ec32c2"
      },
      "execution_count": null,
      "outputs": [
        {
          "output_type": "stream",
          "name": "stdout",
          "text": [
            "trainset size: 10240\n",
            "testset size: 1267\n"
          ]
        }
      ]
    },
    {
      "cell_type": "code",
      "source": [
        "display(trainset.df[\"title\"])\n",
        "display(trainset.df[\"label\"])"
      ],
      "metadata": {
        "colab": {
          "base_uri": "https://localhost:8080/",
          "height": 446
        },
        "id": "ynGFEkDulY8u",
        "outputId": "a449ba9c-2ac8-4a3c-8e59-cff23351e84b"
      },
      "execution_count": null,
      "outputs": [
        {
          "output_type": "display_data",
          "data": {
            "text/plain": [
              "0        Says the Annies List political group supports ...\n",
              "1        When did the decline of coal start? It started...\n",
              "2        Hillary Clinton agrees with John McCain \"by vo...\n",
              "3        Health care reform legislation is likely to ma...\n",
              "4        The economic turnaround started at the end of ...\n",
              "                               ...                        \n",
              "10235    There are a larger number of shark attacks in ...\n",
              "10236    Democrats have now become the party of the [At...\n",
              "10237    Says an alternative to Social Security that op...\n",
              "10238    On lifting the U.S. Cuban embargo and allowing...\n",
              "10239    The Department of Veterans Affairs has a manua...\n",
              "Name: title, Length: 10240, dtype: object"
            ]
          },
          "metadata": {}
        },
        {
          "output_type": "display_data",
          "data": {
            "text/plain": [
              "0        0\n",
              "1        0\n",
              "2        1\n",
              "3        0\n",
              "4        0\n",
              "        ..\n",
              "10235    1\n",
              "10236    1\n",
              "10237    0\n",
              "10238    0\n",
              "10239    0\n",
              "Name: label, Length: 10240, dtype: int64"
            ]
          },
          "metadata": {}
        }
      ]
    },
    {
      "cell_type": "code",
      "source": [
        "titles = trainset.df[\"title\"]\n",
        "labels = trainset.df[\"label\"]\n"
      ],
      "metadata": {
        "id": "p3ueRkaYC-Vl"
      },
      "execution_count": null,
      "outputs": []
    },
    {
      "cell_type": "code",
      "source": [
        "from sklearn.model_selection import train_test_split\n",
        "\n",
        "#Split data into training and testing dataset\n",
        "#We teach our model based on the training set (including the labels)\n",
        "#We take the labels away to test our model with the testing set\n",
        "\n",
        "x_train, x_test, y_train, y_test = train_test_split(titles, labels, test_size=0.2, random_state=1000)"
      ],
      "metadata": {
        "id": "xmCAjLSrDTpJ"
      },
      "execution_count": null,
      "outputs": []
    },
    {
      "cell_type": "code",
      "source": [
        "!pip install tensorflow-text\n",
        "import tensorflow_hub as hub\n",
        "import tensorflow_text as text\n"
      ],
      "metadata": {
        "colab": {
          "base_uri": "https://localhost:8080/"
        },
        "id": "0Zj79M4n_oFe",
        "outputId": "738ad6ad-4f95-4bbf-d940-5793ccdb4c66"
      },
      "execution_count": null,
      "outputs": [
        {
          "output_type": "stream",
          "name": "stdout",
          "text": [
            "Looking in indexes: https://pypi.org/simple, https://us-python.pkg.dev/colab-wheels/public/simple/\n",
            "Collecting tensorflow-text\n",
            "  Downloading tensorflow_text-2.12.1-cp310-cp310-manylinux_2_17_x86_64.manylinux2014_x86_64.whl (6.0 MB)\n",
            "\u001b[2K     \u001b[90m━━━━━━━━━━━━━━━━━━━━━━━━━━━━━━━━━━━━━━━━\u001b[0m \u001b[32m6.0/6.0 MB\u001b[0m \u001b[31m58.4 MB/s\u001b[0m eta \u001b[36m0:00:00\u001b[0m\n",
            "\u001b[?25hRequirement already satisfied: tensorflow-hub>=0.8.0 in /usr/local/lib/python3.10/dist-packages (from tensorflow-text) (0.13.0)\n",
            "Requirement already satisfied: tensorflow<2.13,>=2.12.0 in /usr/local/lib/python3.10/dist-packages (from tensorflow-text) (2.12.0)\n",
            "Requirement already satisfied: absl-py>=1.0.0 in /usr/local/lib/python3.10/dist-packages (from tensorflow<2.13,>=2.12.0->tensorflow-text) (1.4.0)\n",
            "Requirement already satisfied: astunparse>=1.6.0 in /usr/local/lib/python3.10/dist-packages (from tensorflow<2.13,>=2.12.0->tensorflow-text) (1.6.3)\n",
            "Requirement already satisfied: flatbuffers>=2.0 in /usr/local/lib/python3.10/dist-packages (from tensorflow<2.13,>=2.12.0->tensorflow-text) (23.3.3)\n",
            "Requirement already satisfied: gast<=0.4.0,>=0.2.1 in /usr/local/lib/python3.10/dist-packages (from tensorflow<2.13,>=2.12.0->tensorflow-text) (0.4.0)\n",
            "Requirement already satisfied: google-pasta>=0.1.1 in /usr/local/lib/python3.10/dist-packages (from tensorflow<2.13,>=2.12.0->tensorflow-text) (0.2.0)\n",
            "Requirement already satisfied: grpcio<2.0,>=1.24.3 in /usr/local/lib/python3.10/dist-packages (from tensorflow<2.13,>=2.12.0->tensorflow-text) (1.54.0)\n",
            "Requirement already satisfied: h5py>=2.9.0 in /usr/local/lib/python3.10/dist-packages (from tensorflow<2.13,>=2.12.0->tensorflow-text) (3.8.0)\n",
            "Requirement already satisfied: jax>=0.3.15 in /usr/local/lib/python3.10/dist-packages (from tensorflow<2.13,>=2.12.0->tensorflow-text) (0.4.8)\n",
            "Requirement already satisfied: keras<2.13,>=2.12.0 in /usr/local/lib/python3.10/dist-packages (from tensorflow<2.13,>=2.12.0->tensorflow-text) (2.12.0)\n",
            "Requirement already satisfied: libclang>=13.0.0 in /usr/local/lib/python3.10/dist-packages (from tensorflow<2.13,>=2.12.0->tensorflow-text) (16.0.0)\n",
            "Requirement already satisfied: numpy<1.24,>=1.22 in /usr/local/lib/python3.10/dist-packages (from tensorflow<2.13,>=2.12.0->tensorflow-text) (1.22.4)\n",
            "Requirement already satisfied: opt-einsum>=2.3.2 in /usr/local/lib/python3.10/dist-packages (from tensorflow<2.13,>=2.12.0->tensorflow-text) (3.3.0)\n",
            "Requirement already satisfied: packaging in /usr/local/lib/python3.10/dist-packages (from tensorflow<2.13,>=2.12.0->tensorflow-text) (23.1)\n",
            "Requirement already satisfied: protobuf!=4.21.0,!=4.21.1,!=4.21.2,!=4.21.3,!=4.21.4,!=4.21.5,<5.0.0dev,>=3.20.3 in /usr/local/lib/python3.10/dist-packages (from tensorflow<2.13,>=2.12.0->tensorflow-text) (3.20.3)\n",
            "Requirement already satisfied: setuptools in /usr/local/lib/python3.10/dist-packages (from tensorflow<2.13,>=2.12.0->tensorflow-text) (67.7.2)\n",
            "Requirement already satisfied: six>=1.12.0 in /usr/local/lib/python3.10/dist-packages (from tensorflow<2.13,>=2.12.0->tensorflow-text) (1.16.0)\n",
            "Requirement already satisfied: tensorboard<2.13,>=2.12 in /usr/local/lib/python3.10/dist-packages (from tensorflow<2.13,>=2.12.0->tensorflow-text) (2.12.2)\n",
            "Requirement already satisfied: tensorflow-estimator<2.13,>=2.12.0 in /usr/local/lib/python3.10/dist-packages (from tensorflow<2.13,>=2.12.0->tensorflow-text) (2.12.0)\n",
            "Requirement already satisfied: termcolor>=1.1.0 in /usr/local/lib/python3.10/dist-packages (from tensorflow<2.13,>=2.12.0->tensorflow-text) (2.3.0)\n",
            "Requirement already satisfied: typing-extensions>=3.6.6 in /usr/local/lib/python3.10/dist-packages (from tensorflow<2.13,>=2.12.0->tensorflow-text) (4.5.0)\n",
            "Requirement already satisfied: wrapt<1.15,>=1.11.0 in /usr/local/lib/python3.10/dist-packages (from tensorflow<2.13,>=2.12.0->tensorflow-text) (1.14.1)\n",
            "Requirement already satisfied: tensorflow-io-gcs-filesystem>=0.23.1 in /usr/local/lib/python3.10/dist-packages (from tensorflow<2.13,>=2.12.0->tensorflow-text) (0.32.0)\n",
            "Requirement already satisfied: wheel<1.0,>=0.23.0 in /usr/local/lib/python3.10/dist-packages (from astunparse>=1.6.0->tensorflow<2.13,>=2.12.0->tensorflow-text) (0.40.0)\n",
            "Requirement already satisfied: ml-dtypes>=0.0.3 in /usr/local/lib/python3.10/dist-packages (from jax>=0.3.15->tensorflow<2.13,>=2.12.0->tensorflow-text) (0.1.0)\n",
            "Requirement already satisfied: scipy>=1.7 in /usr/local/lib/python3.10/dist-packages (from jax>=0.3.15->tensorflow<2.13,>=2.12.0->tensorflow-text) (1.10.1)\n",
            "Requirement already satisfied: google-auth<3,>=1.6.3 in /usr/local/lib/python3.10/dist-packages (from tensorboard<2.13,>=2.12->tensorflow<2.13,>=2.12.0->tensorflow-text) (2.17.3)\n",
            "Requirement already satisfied: google-auth-oauthlib<1.1,>=0.5 in /usr/local/lib/python3.10/dist-packages (from tensorboard<2.13,>=2.12->tensorflow<2.13,>=2.12.0->tensorflow-text) (1.0.0)\n",
            "Requirement already satisfied: markdown>=2.6.8 in /usr/local/lib/python3.10/dist-packages (from tensorboard<2.13,>=2.12->tensorflow<2.13,>=2.12.0->tensorflow-text) (3.4.3)\n",
            "Requirement already satisfied: requests<3,>=2.21.0 in /usr/local/lib/python3.10/dist-packages (from tensorboard<2.13,>=2.12->tensorflow<2.13,>=2.12.0->tensorflow-text) (2.27.1)\n",
            "Requirement already satisfied: tensorboard-data-server<0.8.0,>=0.7.0 in /usr/local/lib/python3.10/dist-packages (from tensorboard<2.13,>=2.12->tensorflow<2.13,>=2.12.0->tensorflow-text) (0.7.0)\n",
            "Requirement already satisfied: tensorboard-plugin-wit>=1.6.0 in /usr/local/lib/python3.10/dist-packages (from tensorboard<2.13,>=2.12->tensorflow<2.13,>=2.12.0->tensorflow-text) (1.8.1)\n",
            "Requirement already satisfied: werkzeug>=1.0.1 in /usr/local/lib/python3.10/dist-packages (from tensorboard<2.13,>=2.12->tensorflow<2.13,>=2.12.0->tensorflow-text) (2.3.0)\n",
            "Requirement already satisfied: cachetools<6.0,>=2.0.0 in /usr/local/lib/python3.10/dist-packages (from google-auth<3,>=1.6.3->tensorboard<2.13,>=2.12->tensorflow<2.13,>=2.12.0->tensorflow-text) (5.3.0)\n",
            "Requirement already satisfied: pyasn1-modules>=0.2.1 in /usr/local/lib/python3.10/dist-packages (from google-auth<3,>=1.6.3->tensorboard<2.13,>=2.12->tensorflow<2.13,>=2.12.0->tensorflow-text) (0.3.0)\n",
            "Requirement already satisfied: rsa<5,>=3.1.4 in /usr/local/lib/python3.10/dist-packages (from google-auth<3,>=1.6.3->tensorboard<2.13,>=2.12->tensorflow<2.13,>=2.12.0->tensorflow-text) (4.9)\n",
            "Requirement already satisfied: requests-oauthlib>=0.7.0 in /usr/local/lib/python3.10/dist-packages (from google-auth-oauthlib<1.1,>=0.5->tensorboard<2.13,>=2.12->tensorflow<2.13,>=2.12.0->tensorflow-text) (1.3.1)\n",
            "Requirement already satisfied: urllib3<1.27,>=1.21.1 in /usr/local/lib/python3.10/dist-packages (from requests<3,>=2.21.0->tensorboard<2.13,>=2.12->tensorflow<2.13,>=2.12.0->tensorflow-text) (1.26.15)\n",
            "Requirement already satisfied: certifi>=2017.4.17 in /usr/local/lib/python3.10/dist-packages (from requests<3,>=2.21.0->tensorboard<2.13,>=2.12->tensorflow<2.13,>=2.12.0->tensorflow-text) (2022.12.7)\n",
            "Requirement already satisfied: charset-normalizer~=2.0.0 in /usr/local/lib/python3.10/dist-packages (from requests<3,>=2.21.0->tensorboard<2.13,>=2.12->tensorflow<2.13,>=2.12.0->tensorflow-text) (2.0.12)\n",
            "Requirement already satisfied: idna<4,>=2.5 in /usr/local/lib/python3.10/dist-packages (from requests<3,>=2.21.0->tensorboard<2.13,>=2.12->tensorflow<2.13,>=2.12.0->tensorflow-text) (3.4)\n",
            "Requirement already satisfied: MarkupSafe>=2.1.1 in /usr/local/lib/python3.10/dist-packages (from werkzeug>=1.0.1->tensorboard<2.13,>=2.12->tensorflow<2.13,>=2.12.0->tensorflow-text) (2.1.2)\n",
            "Requirement already satisfied: pyasn1<0.6.0,>=0.4.6 in /usr/local/lib/python3.10/dist-packages (from pyasn1-modules>=0.2.1->google-auth<3,>=1.6.3->tensorboard<2.13,>=2.12->tensorflow<2.13,>=2.12.0->tensorflow-text) (0.5.0)\n",
            "Requirement already satisfied: oauthlib>=3.0.0 in /usr/local/lib/python3.10/dist-packages (from requests-oauthlib>=0.7.0->google-auth-oauthlib<1.1,>=0.5->tensorboard<2.13,>=2.12->tensorflow<2.13,>=2.12.0->tensorflow-text) (3.2.2)\n",
            "Installing collected packages: tensorflow-text\n",
            "Successfully installed tensorflow-text-2.12.1\n"
          ]
        }
      ]
    },
    {
      "cell_type": "markdown",
      "source": [
        "### Creating BERT Model"
      ],
      "metadata": {
        "id": "x-PZKvwYR6sN"
      }
    },
    {
      "cell_type": "code",
      "source": [
        "import tensorflow as tf\n",
        "\n",
        "# Check if GPU is available and set the device accordingly\n",
        "if tf.test.gpu_device_name():\n",
        "    device = tf.device('/GPU:0')\n",
        "    print('Using GPU')\n",
        "else:\n",
        "    device = tf.device('/CPU:0')\n",
        "    print('Using CPU')\n",
        "\n",
        "with device:\n",
        "    # Use the BERT preprocesser and BERT encoder from TensorFlow Hub\n",
        "    bert_preprocess = hub.KerasLayer(\"https://tfhub.dev/tensorflow/bert_en_uncased_preprocess/3\")\n",
        "    bert_encoder = hub.KerasLayer('https://tfhub.dev/tensorflow/bert_en_uncased_L-12_H-768_A-12/4')\n",
        "\n",
        "    # Define the input layer\n",
        "    input_layer = tf.keras.layers.Input(shape=(), dtype=tf.string, name='news')\n",
        "\n",
        "    # Preprocess the input using the BERT preprocesser\n",
        "    processed = bert_preprocess(input_layer)\n",
        "\n",
        "    # Encode the preprocessed input using the BERT encoder\n",
        "    output = bert_encoder(processed)\n",
        "\n",
        "    # Apply dropout to the pooled output from BERT\n",
        "    layer = tf.keras.layers.Dropout(0.2, name='dropout')(output['pooled_output'])\n",
        "\n",
        "    # Add a fully connected layer with 2000 neurons and ReLU activation\n",
        "    layer = tf.keras.layers.Dense(2000, activation='relu', name='hidden')(layer)\n",
        "    layer = tf.keras.layers.ReLU()(layer)\n",
        "\n",
        "    # Add another fully connected layer with 2500 neurons and ReLU activation\n",
        "    layer = tf.keras.layers.Dense(2500, activation='relu', name='hidden2')(layer)\n",
        "\n",
        "    # Apply ReLU activation to the layer\n",
        "    layer = tf.keras.layers.ReLU()(layer)\n",
        "\n",
        "    # Add the output layer with sigmoid activation for binary classification\n",
        "    layer = tf.keras.layers.Dense(1, activation='sigmoid', name='output')(layer)\n",
        "\n",
        "    # Create the model with input and output layers\n",
        "    model = tf.keras.Model(inputs=[input_layer], outputs=[layer])\n"
      ],
      "metadata": {
        "id": "S9ozdVwJ_o3R",
        "colab": {
          "base_uri": "https://localhost:8080/"
        },
        "outputId": "1160a42d-87f0-4f36-b4be-b5ebec8c6b42"
      },
      "execution_count": null,
      "outputs": [
        {
          "output_type": "stream",
          "name": "stdout",
          "text": [
            "Using GPU\n"
          ]
        }
      ]
    },
    {
      "cell_type": "code",
      "source": [
        "model.summary()"
      ],
      "metadata": {
        "colab": {
          "base_uri": "https://localhost:8080/"
        },
        "id": "L74ToBLI22xZ",
        "outputId": "b1f503d4-a031-450a-dfd2-988cad71eb6c"
      },
      "execution_count": null,
      "outputs": [
        {
          "output_type": "stream",
          "name": "stdout",
          "text": [
            "Model: \"model\"\n",
            "__________________________________________________________________________________________________\n",
            " Layer (type)                   Output Shape         Param #     Connected to                     \n",
            "==================================================================================================\n",
            " news (InputLayer)              [(None,)]            0           []                               \n",
            "                                                                                                  \n",
            " keras_layer (KerasLayer)       {'input_type_ids':   0           ['news[0][0]']                   \n",
            "                                (None, 128),                                                      \n",
            "                                 'input_word_ids':                                                \n",
            "                                (None, 128),                                                      \n",
            "                                 'input_mask': (Non                                               \n",
            "                                e, 128)}                                                          \n",
            "                                                                                                  \n",
            " keras_layer_1 (KerasLayer)     {'encoder_outputs':  109482241   ['keras_layer[0][0]',            \n",
            "                                 [(None, 128, 768),               'keras_layer[0][1]',            \n",
            "                                 (None, 128, 768),                'keras_layer[0][2]']            \n",
            "                                 (None, 128, 768),                                                \n",
            "                                 (None, 128, 768),                                                \n",
            "                                 (None, 128, 768),                                                \n",
            "                                 (None, 128, 768),                                                \n",
            "                                 (None, 128, 768),                                                \n",
            "                                 (None, 128, 768),                                                \n",
            "                                 (None, 128, 768),                                                \n",
            "                                 (None, 128, 768),                                                \n",
            "                                 (None, 128, 768),                                                \n",
            "                                 (None, 128, 768)],                                               \n",
            "                                 'pooled_output': (                                               \n",
            "                                None, 768),                                                       \n",
            "                                 'default': (None,                                                \n",
            "                                768),                                                             \n",
            "                                 'sequence_output':                                               \n",
            "                                 (None, 128, 768)}                                                \n",
            "                                                                                                  \n",
            " dropout (Dropout)              (None, 768)          0           ['keras_layer_1[0][13]']         \n",
            "                                                                                                  \n",
            " hidden (Dense)                 (None, 2000)         1538000     ['dropout[0][0]']                \n",
            "                                                                                                  \n",
            " re_lu (ReLU)                   (None, 2000)         0           ['hidden[0][0]']                 \n",
            "                                                                                                  \n",
            " hidden2 (Dense)                (None, 2500)         5002500     ['re_lu[0][0]']                  \n",
            "                                                                                                  \n",
            " re_lu_1 (ReLU)                 (None, 2500)         0           ['hidden2[0][0]']                \n",
            "                                                                                                  \n",
            " output (Dense)                 (None, 1)            2501        ['re_lu_1[0][0]']                \n",
            "                                                                                                  \n",
            "==================================================================================================\n",
            "Total params: 116,025,242\n",
            "Trainable params: 6,543,001\n",
            "Non-trainable params: 109,482,241\n",
            "__________________________________________________________________________________________________\n"
          ]
        }
      ]
    },
    {
      "cell_type": "markdown",
      "source": [
        "### Training the model"
      ],
      "metadata": {
        "id": "73Xrs0TJR_6V"
      }
    },
    {
      "cell_type": "code",
      "source": [
        "model.compile(optimizer='adam', loss='binary_crossentropy', metrics=['accuracy'])\n",
        "epochs = 5\n",
        "train_loss = []\n",
        "train_accuracy = []\n",
        "test_loss = []\n",
        "test_accuracy = []\n",
        "\n",
        "for epoch in range(epochs):\n",
        "    # Train model for one epoch\n",
        "    history = model.fit(x_train, y_train, epochs=1, verbose=1)\n",
        "    \n",
        "    # Get train loss and accuracy\n",
        "    train_loss.append(history.history['loss'][0])\n",
        "    train_accuracy.append(history.history['accuracy'][0])\n",
        "    \n",
        "    # Evaluate model on test data\n",
        "    loss, accuracy = model.evaluate(x_test, y_test)\n",
        "    test_loss.append(loss)\n",
        "    test_accuracy.append(accuracy)"
      ],
      "metadata": {
        "colab": {
          "base_uri": "https://localhost:8080/"
        },
        "id": "FM0ysNR0_tBR",
        "outputId": "35e6aa6a-67e4-41f6-e7d4-dbd57b2b7baa"
      },
      "execution_count": null,
      "outputs": [
        {
          "output_type": "stream",
          "name": "stdout",
          "text": [
            "256/256 [==============================] - 120s 379ms/step - loss: 0.6960 - accuracy: 0.6376\n",
            "64/64 [==============================] - 25s 373ms/step - loss: 0.6507 - accuracy: 0.6377\n",
            "256/256 [==============================] - 96s 375ms/step - loss: 0.6480 - accuracy: 0.6467\n",
            "64/64 [==============================] - 24s 374ms/step - loss: 0.6539 - accuracy: 0.6372\n",
            "256/256 [==============================] - 98s 384ms/step - loss: 0.6490 - accuracy: 0.6454\n",
            "64/64 [==============================] - 24s 381ms/step - loss: 0.6478 - accuracy: 0.6372\n",
            "256/256 [==============================] - 96s 374ms/step - loss: 0.6443 - accuracy: 0.6466\n",
            "64/64 [==============================] - 24s 381ms/step - loss: 0.6456 - accuracy: 0.6372\n",
            "256/256 [==============================] - 95s 372ms/step - loss: 0.6440 - accuracy: 0.6466\n",
            "64/64 [==============================] - 24s 381ms/step - loss: 0.6445 - accuracy: 0.6372\n"
          ]
        }
      ]
    },
    {
      "cell_type": "markdown",
      "source": [
        "### Displaying Network architecture"
      ],
      "metadata": {
        "id": "YDn6y7nwSCYO"
      }
    },
    {
      "cell_type": "code",
      "source": [
        "from keras.utils.vis_utils import plot_model\n",
        "plot_model(model, to_file='model_bert.png', show_shapes=True, show_layer_names=True)"
      ],
      "metadata": {
        "colab": {
          "base_uri": "https://localhost:8080/",
          "height": 455
        },
        "id": "XJq5WDv0i3De",
        "outputId": "5891483f-d0c3-49f9-c387-fba5e84c7772"
      },
      "execution_count": null,
      "outputs": [
        {
          "output_type": "execute_result",
          "data": {
            "image/png": "[encoded data removed]",
            "text/plain": [
              "<IPython.core.display.Image object>"
            ]
          },
          "metadata": {},
          "execution_count": 31
        }
      ]
    },
    {
      "cell_type": "markdown",
      "source": [
        "### Plotting confusion matrix, and Accuracy"
      ],
      "metadata": {
        "id": "6ekzV16fSIRG"
      }
    },
    {
      "cell_type": "code",
      "source": [
        "from sklearn.metrics import confusion_matrix, ConfusionMatrixDisplay, accuracy_score, classification_report\n",
        "\n",
        "# Get predictions from the model\n",
        "predictions = model.predict(x_test)\n",
        "\n",
        "# Convert predictions to binary values\n",
        "binary_predictions = (predictions > 0.5).astype(int)\n",
        "\n",
        "# Calculate the confusion matrix\n",
        "# The labels argument specifies the order of the classes in the matrix\n",
        "# The normalize argument is set to 'pred' to normalize the matrix by the predicted column\n",
        "cm = confusion_matrix(y_test, binary_predictions, labels=[1, 0], normalize='pred')\n",
        "print(cm)\n",
        "\n",
        "# Display the confusion matrix\n",
        "disp = ConfusionMatrixDisplay(confusion_matrix=cm, display_labels=['Real', 'Fake'])\n",
        "disp.plot(cmap=plt.cm.Blues)\n",
        "\n",
        "# Calculate the accuracy\n",
        "accuracy = accuracy_score(binary_predictions, y_test)\n",
        "print('Acc:', accuracy)\n",
        "\n",
        "# Generate the classification report\n",
        "report = classification_report(y_test, binary_predictions)\n",
        "print(report)\n"
      ],
      "metadata": {
        "colab": {
          "base_uri": "https://localhost:8080/",
          "height": 808
        },
        "id": "i_AFnlFrsdYk",
        "outputId": "f16a3021-d6c8-4b43-a210-8aff00d5981e"
      },
      "execution_count": null,
      "outputs": [
        {
          "output_type": "stream",
          "name": "stdout",
          "text": [
            "64/64 [==============================] - 24s 367ms/step\n",
            "[[0.         0.36279297]\n",
            " [0.         0.63720703]]\n",
            "Acc: 0.63720703125\n",
            "              precision    recall  f1-score   support\n",
            "\n",
            "           0       0.64      1.00      0.78      1305\n",
            "           1       0.00      0.00      0.00       743\n",
            "\n",
            "    accuracy                           0.64      2048\n",
            "   macro avg       0.32      0.50      0.39      2048\n",
            "weighted avg       0.41      0.64      0.50      2048\n",
            "\n"
          ]
        },
        {
          "output_type": "stream",
          "name": "stderr",
          "text": [
            "/usr/local/lib/python3.10/dist-packages/sklearn/metrics/_classification.py:1344: UndefinedMetricWarning: Precision and F-score are ill-defined and being set to 0.0 in labels with no predicted samples. Use `zero_division` parameter to control this behavior.\n",
            "  _warn_prf(average, modifier, msg_start, len(result))\n",
            "/usr/local/lib/python3.10/dist-packages/sklearn/metrics/_classification.py:1344: UndefinedMetricWarning: Precision and F-score are ill-defined and being set to 0.0 in labels with no predicted samples. Use `zero_division` parameter to control this behavior.\n",
            "  _warn_prf(average, modifier, msg_start, len(result))\n",
            "/usr/local/lib/python3.10/dist-packages/sklearn/metrics/_classification.py:1344: UndefinedMetricWarning: Precision and F-score are ill-defined and being set to 0.0 in labels with no predicted samples. Use `zero_division` parameter to control this behavior.\n",
            "  _warn_prf(average, modifier, msg_start, len(result))\n"
          ]
        },
        {
          "output_type": "display_data",
          "data": {
            "text/plain": [
              "<Figure size 640x480 with 2 Axes>"
            ],
            "image/png": "[encoded data removed]"
          },
          "metadata": {}
        }
      ]
    },
    {
      "cell_type": "markdown",
      "source": [
        "### Accuracy"
      ],
      "metadata": {
        "id": "jy0BVzAxUNRg"
      }
    },
    {
      "cell_type": "code",
      "source": [
        "# Calculate the accuracy\n",
        "accuracy = accuracy_score(binary_predictions, y_test)\n",
        "print('Accuracy Achieved:', accuracy)"
      ],
      "metadata": {
        "id": "z3DRKphNSzWb",
        "colab": {
          "base_uri": "https://localhost:8080/"
        },
        "outputId": "e042be24-5667-4285-eedb-2e77f6770a2f"
      },
      "execution_count": null,
      "outputs": [
        {
          "output_type": "stream",
          "name": "stdout",
          "text": [
            "Accuracy Achieved: 0.63720703125\n"
          ]
        }
      ]
    },
    {
      "cell_type": "markdown",
      "source": [
        "### Plotting train vs test loss and train and test accuracy"
      ],
      "metadata": {
        "id": "N7Sh2-5eS-gv"
      }
    },
    {
      "cell_type": "code",
      "source": [
        "import matplotlib.pyplot as plt\n",
        "\n",
        "# Plot the train and test loss\n",
        "plt.figure()\n",
        "plt.plot(train_loss, label='Train Loss')\n",
        "plt.plot(test_loss, label='Test Loss')\n",
        "plt.title('Train vs. Test Loss')\n",
        "plt.xlabel('Epoch')\n",
        "plt.ylabel('Loss')\n",
        "plt.ylim(0, 1)\n",
        "plt.legend()\n",
        "plt.show()\n",
        "\n",
        "# Plot the train and test accuracy\n",
        "plt.figure()\n",
        "plt.plot(train_accuracy, label='Train Accuracy')\n",
        "plt.plot(test_accuracy, label='Test Accuracy')\n",
        "plt.title('Train vs. Test Accuracy')\n",
        "plt.xlabel('Epoch')\n",
        "plt.ylabel('Accuracy')\n",
        "plt.legend()\n",
        "plt.show()"
      ],
      "metadata": {
        "colab": {
          "base_uri": "https://localhost:8080/",
          "height": 927
        },
        "id": "GGqVd1fBu5-G",
        "outputId": "c056a74a-7eb8-4750-edd9-fea73a08ac03"
      },
      "execution_count": null,
      "outputs": [
        {
          "output_type": "display_data",
          "data": {
            "text/plain": [
              "<Figure size 640x480 with 1 Axes>"
            ],
            "image/png": "[encoded data removed]"
          },
          "metadata": {}
        },
        {
          "output_type": "display_data",
          "data": {
            "text/plain": [
              "<Figure size 640x480 with 1 Axes>"
            ],
            "image/png": "[encoded data removed]"
          },
          "metadata": {}
        }
      ]
    },
    {
      "cell_type": "markdown",
      "source": [
        "# **LSTM**"
      ],
      "metadata": {
        "id": "0NfUBtByCERB"
      }
    },
    {
      "cell_type": "markdown",
      "source": [
        "### Creating LSTM Model"
      ],
      "metadata": {
        "id": "K4qsnN_TTQnt"
      }
    },
    {
      "cell_type": "code",
      "source": [
        "from tensorflow.keras.models import Sequential\n",
        "from tensorflow.keras.layers import Dense, Flatten, Embedding, Input, LSTM, Conv1D, MaxPool1D, Bidirectional, Dropout, BatchNormalization\n",
        "\n",
        "# Set the number of embedding vector features\n",
        "embedding_vector_features = 40\n",
        "\n",
        "# Create a Sequential model\n",
        "model = Sequential()\n",
        "\n",
        "# Add an Embedding layer\n",
        "# The input dimension is set to total_words, and the output dimension is set to embedding_vector_features\n",
        "# The input_length is set to 20 to match the length of the padded sequences\n",
        "model.add(Embedding(total_words, embedding_vector_features, input_length=20))\n",
        "\n",
        "# Add a Dropout layer for regularization\n",
        "model.add(Dropout(0.3))\n",
        "\n",
        "# Add a LSTM layer with 500 units and return sequences\n",
        "model.add(LSTM(500, return_sequences=True))\n",
        "\n",
        "# Add a Dropout layer for regularization\n",
        "model.add(Dropout(0.2))\n",
        "\n",
        "# Add another LSTM layer with 500 units\n",
        "model.add(LSTM(500))\n",
        "\n",
        "# Add a Dropout layer for regularization\n",
        "model.add(Dropout(0.3))\n",
        "\n",
        "# Add a Dense layer with 1 unit and sigmoid activation for binary classification\n",
        "model.add(Dense(1, activation='sigmoid'))\n",
        "\n",
        "# Print the model summary\n",
        "print(model.summary())\n"
      ],
      "metadata": {
        "colab": {
          "base_uri": "https://localhost:8080/"
        },
        "id": "wDqf4p1MCF97",
        "outputId": "4d2befbf-4040-4366-beba-3161f7fe3518"
      },
      "execution_count": null,
      "outputs": [
        {
          "output_type": "stream",
          "name": "stdout",
          "text": [
            "Model: \"sequential\"\n",
            "_________________________________________________________________\n",
            " Layer (type)                Output Shape              Param #   \n",
            "=================================================================\n",
            " embedding (Embedding)       (None, 20, 40)            479080    \n",
            "                                                                 \n",
            " dropout (Dropout)           (None, 20, 40)            0         \n",
            "                                                                 \n",
            " lstm (LSTM)                 (None, 20, 500)           1082000   \n",
            "                                                                 \n",
            " dropout_1 (Dropout)         (None, 20, 500)           0         \n",
            "                                                                 \n",
            " lstm_1 (LSTM)               (None, 500)               2002000   \n",
            "                                                                 \n",
            " dropout_2 (Dropout)         (None, 500)               0         \n",
            "                                                                 \n",
            " dense (Dense)               (None, 1)                 501       \n",
            "                                                                 \n",
            "=================================================================\n",
            "Total params: 3,563,581\n",
            "Trainable params: 3,563,581\n",
            "Non-trainable params: 0\n",
            "_________________________________________________________________\n",
            "None\n"
          ]
        }
      ]
    },
    {
      "cell_type": "markdown",
      "source": [
        "### Training the model"
      ],
      "metadata": {
        "id": "FUDHYtZWTT_a"
      }
    },
    {
      "cell_type": "code",
      "source": [
        "y_train = np.asarray(train_df['label'])\n",
        "y_test = np.asarray(test_df['label'])\n",
        "\n",
        "# Compile the model with the specified optimizer, loss function, and metrics\n",
        "model.compile(optimizer='adam', loss='binary_crossentropy', metrics=['accuracy'])\n",
        "\n",
        "# Set the number of epochs\n",
        "epochs = 5\n",
        "\n",
        "# Initialize empty lists to store train and test metrics\n",
        "train_loss = []\n",
        "train_accuracy = []\n",
        "test_loss = []\n",
        "test_accuracy = []\n",
        "\n",
        "# Iterate over the specified number of epochs\n",
        "for epoch in range(epochs):\n",
        "    # Train the model for one epoch\n",
        "    history = model.fit(padded_train, y_train, epochs=1, verbose=1)\n",
        "    \n",
        "    # Get the train loss and accuracy for the current epoch\n",
        "    train_loss.append(history.history['loss'][0])\n",
        "    train_accuracy.append(history.history['accuracy'][0])\n",
        "    \n",
        "    # Evaluate the model on the test data\n",
        "    loss, accuracy = model.evaluate(padded_test, y_test)\n",
        "    test_loss.append(loss)\n",
        "    test_accuracy.append(accuracy)\n"
      ],
      "metadata": {
        "colab": {
          "base_uri": "https://localhost:8080/"
        },
        "id": "T9DVWbDYCIMP",
        "outputId": "313ead2a-5174-4f88-a296-a61fe120ff50"
      },
      "execution_count": null,
      "outputs": [
        {
          "output_type": "stream",
          "name": "stdout",
          "text": [
            "320/320 [==============================] - 23s 57ms/step - loss: 0.6463 - accuracy: 0.6459\n",
            "40/40 [==============================] - 1s 5ms/step - loss: 0.6403 - accuracy: 0.6496\n",
            "320/320 [==============================] - 7s 22ms/step - loss: 0.5785 - accuracy: 0.6999\n",
            "40/40 [==============================] - 0s 7ms/step - loss: 0.6348 - accuracy: 0.6614\n",
            "320/320 [==============================] - 4s 14ms/step - loss: 0.4824 - accuracy: 0.7750\n",
            "40/40 [==============================] - 0s 6ms/step - loss: 0.6576 - accuracy: 0.6456\n",
            "320/320 [==============================] - 4s 14ms/step - loss: 0.3793 - accuracy: 0.8380\n",
            "40/40 [==============================] - 0s 5ms/step - loss: 0.7716 - accuracy: 0.6290\n",
            "320/320 [==============================] - 4s 11ms/step - loss: 0.3014 - accuracy: 0.8766\n",
            "40/40 [==============================] - 0s 5ms/step - loss: 0.8198 - accuracy: 0.6433\n"
          ]
        }
      ]
    },
    {
      "cell_type": "markdown",
      "source": [
        "### Network Architecture"
      ],
      "metadata": {
        "id": "ngr1k2tGTpBS"
      }
    },
    {
      "cell_type": "code",
      "source": [
        "from keras.utils.vis_utils import plot_model\n",
        "plot_model(model, to_file='model_lstm.png', show_shapes=True, show_layer_names=True)"
      ],
      "metadata": {
        "id": "tBuPfWhW1ReB",
        "colab": {
          "base_uri": "https://localhost:8080/",
          "height": 865
        },
        "outputId": "5795de76-0415-43ae-c6ae-559150bc2dfb"
      },
      "execution_count": null,
      "outputs": [
        {
          "output_type": "execute_result",
          "data": {
            "image/png": "[encoded data removed]",
            "text/plain": [
              "<IPython.core.display.Image object>"
            ]
          },
          "metadata": {},
          "execution_count": 37
        }
      ]
    },
    {
      "cell_type": "markdown",
      "source": [
        "### Plotting confusion matrix and accuracy"
      ],
      "metadata": {
        "id": "1fm6tmghTXvP"
      }
    },
    {
      "cell_type": "code",
      "source": [
        "# Making predictions on the test data\n",
        "prediction = (model.predict(padded_test) > 0.5).astype(\"int32\")\n",
        "\n",
        "# Calculating the accuracy\n",
        "from sklearn.metrics import accuracy_score\n",
        "y_test = np.asarray(test_df['label'])\n",
        "accuracy = accuracy_score(list(y_test), prediction)\n",
        "\n",
        "print(\"Accuracy: \", accuracy)\n",
        "\n",
        "# Calculating the confusion matrix\n",
        "from sklearn.metrics import confusion_matrix\n",
        "cm = confusion_matrix(list(y_test), prediction)\n",
        "\n",
        "# Plotting the confusion matrix\n",
        "plt.figure(figsize=(6, 6))\n",
        "sns.heatmap(cm, cmap=\"Blues\", linecolor='black', annot=True)\n",
        "\n",
        "# Generating the classification report\n",
        "from sklearn.metrics import classification_report\n",
        "print(classification_report(y_test, prediction))\n"
      ],
      "metadata": {
        "colab": {
          "base_uri": "https://localhost:8080/",
          "height": 718
        },
        "id": "FhJlKXq4CIVV",
        "outputId": "e919a5c9-c676-47c5-a728-d1fd26ceb247"
      },
      "execution_count": null,
      "outputs": [
        {
          "output_type": "stream",
          "name": "stdout",
          "text": [
            "40/40 [==============================] - 1s 4ms/step\n",
            "Accuracy:  0.6432517758484609\n",
            "              precision    recall  f1-score   support\n",
            "\n",
            "           0       0.71      0.77      0.74       818\n",
            "           1       0.50      0.41      0.45       449\n",
            "\n",
            "    accuracy                           0.64      1267\n",
            "   macro avg       0.60      0.59      0.59      1267\n",
            "weighted avg       0.63      0.64      0.63      1267\n",
            "\n"
          ]
        },
        {
          "output_type": "display_data",
          "data": {
            "text/plain": [
              "<Figure size 600x600 with 2 Axes>"
            ],
            "image/png": "[encoded data removed]"
          },
          "metadata": {}
        }
      ]
    },
    {
      "cell_type": "markdown",
      "source": [
        "### Accuracy"
      ],
      "metadata": {
        "id": "iDGtAbBCURVP"
      }
    },
    {
      "cell_type": "code",
      "source": [
        "# Calculate the accuracy\n",
        "accuracy = accuracy_score(list(y_test), prediction)\n",
        "print(\"Accuracy: \", accuracy)"
      ],
      "metadata": {
        "id": "M9yuewjbURVP",
        "colab": {
          "base_uri": "https://localhost:8080/"
        },
        "outputId": "db765f7d-2051-4181-d612-39d761aec1d2"
      },
      "execution_count": null,
      "outputs": [
        {
          "output_type": "stream",
          "name": "stdout",
          "text": [
            "Accuracy:  0.6432517758484609\n"
          ]
        }
      ]
    },
    {
      "cell_type": "markdown",
      "source": [
        "### Plotting train vs test loss and train vs test accuracy"
      ],
      "metadata": {
        "id": "Wyc43yutTcQ8"
      }
    },
    {
      "cell_type": "code",
      "source": [
        "import matplotlib.pyplot as plt\n",
        "\n",
        "# Plot the train and test loss\n",
        "plt.figure()\n",
        "plt.plot(train_loss, label='Train Loss')\n",
        "plt.plot(test_loss, label='Test Loss')\n",
        "plt.title('Train vs. Test Loss')\n",
        "plt.xlabel('Epoch')\n",
        "plt.ylabel('Loss')\n",
        "plt.ylim(0, 1) \n",
        "plt.legend()\n",
        "plt.show()\n",
        "\n",
        "# Plot the train and test accuracy\n",
        "plt.figure()\n",
        "plt.plot(train_accuracy, label='Train Accuracy')\n",
        "plt.plot(test_accuracy, label='Test Accuracy')\n",
        "plt.title('Train vs. Test Accuracy')\n",
        "plt.xlabel('Epoch')\n",
        "plt.ylabel('Accuracy')\n",
        "plt.legend()\n",
        "plt.show()"
      ],
      "metadata": {
        "id": "vXGPodRT1Y37",
        "colab": {
          "base_uri": "https://localhost:8080/",
          "height": 927
        },
        "outputId": "49478f2e-b617-44a4-ed24-d50086b4445c"
      },
      "execution_count": null,
      "outputs": [
        {
          "output_type": "display_data",
          "data": {
            "text/plain": [
              "<Figure size 640x480 with 1 Axes>"
            ],
            "image/png": "[encoded data removed]"
          },
          "metadata": {}
        },
        {
          "output_type": "display_data",
          "data": {
            "text/plain": [
              "<Figure size 640x480 with 1 Axes>"
            ],
            "image/png": "[encoded data removed]"
          },
          "metadata": {}
        }
      ]
    },
    {
      "cell_type": "markdown",
      "source": [
        "### Creating BiLSTM Model"
      ],
      "metadata": {
        "id": "gbWxXDtBTf18"
      }
    },
    {
      "cell_type": "code",
      "source": [
        "# Creating the model using Bidirectional LSTM\n",
        "embedding_vector_features = 40\n",
        "model = Sequential()\n",
        "\n",
        "# Embedding layer\n",
        "model.add(Embedding(total_words, embedding_vector_features, input_length=20))\n",
        "\n",
        "# Dropout layer\n",
        "model.add(Dropout(0.3))\n",
        "\n",
        "# Bidirectional LSTM layer with return_sequences=True to get sequences from both directions\n",
        "model.add(Bidirectional(LSTM(500, return_sequences=True)))\n",
        "\n",
        "# Dropout layer\n",
        "model.add(Dropout(0.2))\n",
        "\n",
        "# Bidirectional LSTM layer\n",
        "model.add(Bidirectional(LSTM(500)))\n",
        "\n",
        "# Dropout layer\n",
        "model.add(Dropout(0.3))\n",
        "\n",
        "# Output dense layer with sigmoid activation for binary classification\n",
        "model.add(Dense(1, activation='sigmoid'))\n",
        "\n",
        "print(model.summary())\n"
      ],
      "metadata": {
        "colab": {
          "base_uri": "https://localhost:8080/"
        },
        "id": "uDCsZJWsCQBl",
        "outputId": "54ea21ba-9d72-4af9-fcc5-e906d03bd74a"
      },
      "execution_count": null,
      "outputs": [
        {
          "output_type": "stream",
          "name": "stdout",
          "text": [
            "Model: \"sequential_1\"\n",
            "_________________________________________________________________\n",
            " Layer (type)                Output Shape              Param #   \n",
            "=================================================================\n",
            " embedding_1 (Embedding)     (None, 20, 40)            479080    \n",
            "                                                                 \n",
            " dropout_3 (Dropout)         (None, 20, 40)            0         \n",
            "                                                                 \n",
            " bidirectional (Bidirectiona  (None, 20, 1000)         2164000   \n",
            " l)                                                              \n",
            "                                                                 \n",
            " dropout_4 (Dropout)         (None, 20, 1000)          0         \n",
            "                                                                 \n",
            " bidirectional_1 (Bidirectio  (None, 1000)             6004000   \n",
            " nal)                                                            \n",
            "                                                                 \n",
            " dropout_5 (Dropout)         (None, 1000)              0         \n",
            "                                                                 \n",
            " dense_1 (Dense)             (None, 1)                 1001      \n",
            "                                                                 \n",
            "=================================================================\n",
            "Total params: 8,648,081\n",
            "Trainable params: 8,648,081\n",
            "Non-trainable params: 0\n",
            "_________________________________________________________________\n",
            "None\n"
          ]
        }
      ]
    },
    {
      "cell_type": "markdown",
      "source": [
        "### Training the model"
      ],
      "metadata": {
        "id": "yUdkQwCSTiR-"
      }
    },
    {
      "cell_type": "code",
      "source": [
        "y_train = np.asarray(train_df['label'])\n",
        "y_test = np.asarray(test_df['label'])\n",
        "\n",
        "model.compile(optimizer='adam', loss='binary_crossentropy', metrics=['accuracy'])\n",
        "epochs = 5\n",
        "train_loss = []\n",
        "train_accuracy = []\n",
        "test_loss = []\n",
        "test_accuracy = []\n",
        "\n",
        "for epoch in range(epochs):\n",
        "    # Train model for one epoch\n",
        "    history = model.fit(padded_train, y_train, epochs=1, verbose=1)\n",
        "    \n",
        "    # Get train loss and accuracy\n",
        "    train_loss.append(history.history['loss'][0])\n",
        "    train_accuracy.append(history.history['accuracy'][0])\n",
        "    \n",
        "    # Evaluate model on test data\n",
        "    loss, accuracy = model.evaluate(padded_test, y_test)\n",
        "    test_loss.append(loss)\n",
        "    test_accuracy.append(accuracy)"
      ],
      "metadata": {
        "colab": {
          "base_uri": "https://localhost:8080/"
        },
        "id": "lf9AULMWCRxl",
        "outputId": "5719a4d8-9aec-40d0-afbd-2d872d2c8dd8"
      },
      "execution_count": null,
      "outputs": [
        {
          "output_type": "stream",
          "name": "stdout",
          "text": [
            "320/320 [==============================] - 27s 61ms/step - loss: 0.6472 - accuracy: 0.6438\n",
            "40/40 [==============================] - 2s 11ms/step - loss: 0.6185 - accuracy: 0.6590\n",
            "320/320 [==============================] - 7s 23ms/step - loss: 0.5803 - accuracy: 0.6955\n",
            "40/40 [==============================] - 0s 10ms/step - loss: 0.6150 - accuracy: 0.6519\n",
            "320/320 [==============================] - 7s 23ms/step - loss: 0.4660 - accuracy: 0.7827\n",
            "40/40 [==============================] - 0s 11ms/step - loss: 0.6963 - accuracy: 0.6527\n",
            "320/320 [==============================] - 7s 20ms/step - loss: 0.3488 - accuracy: 0.8525\n",
            "40/40 [==============================] - 0s 11ms/step - loss: 0.7947 - accuracy: 0.6109\n",
            "320/320 [==============================] - 7s 22ms/step - loss: 0.2536 - accuracy: 0.8985\n",
            "40/40 [==============================] - 0s 9ms/step - loss: 0.9517 - accuracy: 0.6204\n"
          ]
        }
      ]
    },
    {
      "cell_type": "markdown",
      "source": [
        "### Network Architecture"
      ],
      "metadata": {
        "id": "IPFKYptnTlaq"
      }
    },
    {
      "cell_type": "code",
      "source": [
        "from keras.utils.vis_utils import plot_model\n",
        "plot_model(model, to_file='model_bilstm.png', show_shapes=True, show_layer_names=True)"
      ],
      "metadata": {
        "id": "xxIUu5UH1iKj",
        "colab": {
          "base_uri": "https://localhost:8080/",
          "height": 865
        },
        "outputId": "e8ecd59d-0f74-40f2-bf2c-07f5c12c66fa"
      },
      "execution_count": null,
      "outputs": [
        {
          "output_type": "execute_result",
          "data": {
            "image/png": "[encoded data removed]",
            "text/plain": [
              "<IPython.core.display.Image object>"
            ]
          },
          "metadata": {},
          "execution_count": 44
        }
      ]
    },
    {
      "cell_type": "markdown",
      "source": [
        "### Plotting confusion matrix and accuracy"
      ],
      "metadata": {
        "id": "IVUitFAuTs02"
      }
    },
    {
      "cell_type": "code",
      "source": [
        "# Making predictions\n",
        "prediction = (model.predict(padded_test) > 0.5).astype(\"int32\")\n",
        "\n",
        "# Getting the accuracy\n",
        "y_test = np.asarray(test_df['label'])\n",
        "accuracy = accuracy_score(list(y_test), prediction)\n",
        "print(\"Accuracy: \", accuracy)\n",
        "\n",
        "# Getting the confusion matrix\n",
        "cm = confusion_matrix(list(y_test), prediction)\n",
        "plt.figure(figsize=(6, 6))\n",
        "sns.heatmap(cm, cmap=\"Blues\", linecolor='black', annot=True)\n",
        "\n",
        "# Printing the classification report\n",
        "print(classification_report(y_test, prediction))\n"
      ],
      "metadata": {
        "colab": {
          "base_uri": "https://localhost:8080/",
          "height": 718
        },
        "id": "eTjyw9Z5CXGn",
        "outputId": "a522ce1b-1dd9-49ff-a1fb-1081305828c5"
      },
      "execution_count": null,
      "outputs": [
        {
          "output_type": "stream",
          "name": "stdout",
          "text": [
            "40/40 [==============================] - 2s 10ms/step\n",
            "Accuracy:  0.6203630623520127\n",
            "              precision    recall  f1-score   support\n",
            "\n",
            "           0       0.68      0.76      0.72       818\n",
            "           1       0.46      0.36      0.40       449\n",
            "\n",
            "    accuracy                           0.62      1267\n",
            "   macro avg       0.57      0.56      0.56      1267\n",
            "weighted avg       0.60      0.62      0.61      1267\n",
            "\n"
          ]
        },
        {
          "output_type": "display_data",
          "data": {
            "text/plain": [
              "<Figure size 600x600 with 2 Axes>"
            ],
            "image/png": "[encoded data removed]"
          },
          "metadata": {}
        }
      ]
    },
    {
      "cell_type": "markdown",
      "source": [
        "### Accuracy"
      ],
      "metadata": {
        "id": "-4MqBh50UUXJ"
      }
    },
    {
      "cell_type": "code",
      "source": [
        "# Calculate the accuracy\n",
        "accuracy = accuracy_score(list(y_test), prediction)\n",
        "print(\"Accuracy: \", accuracy)"
      ],
      "metadata": {
        "id": "yoJ4ExhkUUXK",
        "colab": {
          "base_uri": "https://localhost:8080/"
        },
        "outputId": "53db2194-b1cc-4534-ba42-40d3b4e5e7ce"
      },
      "execution_count": null,
      "outputs": [
        {
          "output_type": "stream",
          "name": "stdout",
          "text": [
            "Accuracy:  0.6203630623520127\n"
          ]
        }
      ]
    },
    {
      "cell_type": "markdown",
      "source": [
        "### Plotting train vs test loss and train vs test accuracy"
      ],
      "metadata": {
        "id": "Q2ctaw4NTwUV"
      }
    },
    {
      "cell_type": "code",
      "source": [
        "import matplotlib.pyplot as plt\n",
        "\n",
        "# Plot the train and test loss\n",
        "plt.figure()\n",
        "plt.plot(train_loss, label='Train Loss')\n",
        "plt.plot(test_loss, label='Test Loss')\n",
        "plt.title('Train vs. Test Loss')\n",
        "plt.xlabel('Epoch')\n",
        "plt.ylabel('Loss')\n",
        "plt.ylim(0, 1) \n",
        "plt.legend()\n",
        "plt.show()\n",
        "\n",
        "# Plot the train and test accuracy\n",
        "plt.figure()\n",
        "plt.plot(train_accuracy, label='Train Accuracy')\n",
        "plt.plot(test_accuracy, label='Test Accuracy')\n",
        "plt.title('Train vs. Test Accuracy')\n",
        "plt.xlabel('Epoch')\n",
        "plt.ylabel('Accuracy')\n",
        "plt.legend()\n",
        "plt.show()"
      ],
      "metadata": {
        "id": "Dd27Ri8p1l-I",
        "colab": {
          "base_uri": "https://localhost:8080/",
          "height": 927
        },
        "outputId": "f91fc03d-8541-41cc-b04b-54315af148a4"
      },
      "execution_count": null,
      "outputs": [
        {
          "output_type": "display_data",
          "data": {
            "text/plain": [
              "<Figure size 640x480 with 1 Axes>"
            ],
            "image/png": "[encoded data removed]"
          },
          "metadata": {}
        },
        {
          "output_type": "display_data",
          "data": {
            "text/plain": [
              "<Figure size 640x480 with 1 Axes>"
            ],
            "image/png": "[encoded data removed]"
          },
          "metadata": {}
        }
      ]
    }
  ]
}